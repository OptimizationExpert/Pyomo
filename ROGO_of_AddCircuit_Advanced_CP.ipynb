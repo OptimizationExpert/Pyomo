{
  "nbformat": 4,
  "nbformat_minor": 0,
  "metadata": {
    "colab": {
      "provenance": [],
      "include_colab_link": true
    },
    "kernelspec": {
      "name": "python3",
      "display_name": "Python 3"
    }
  },
  "cells": [
    {
      "cell_type": "markdown",
      "metadata": {
        "id": "view-in-github",
        "colab_type": "text"
      },
      "source": [
        "<a href=\"https://colab.research.google.com/github/OptimizationExpert/Pyomo/blob/main/ROGO_of_AddCircuit_Advanced_CP.ipynb\" target=\"_parent\"><img src=\"https://colab.research.google.com/assets/colab-badge.svg\" alt=\"Open In Colab\"/></a>"
      ]
    },
    {
      "cell_type": "code",
      "metadata": {
        "id": "w_3yuwV8XtMF",
        "outputId": "3a3a2458-cb02-4cfc-af6f-cde44c605e65",
        "colab": {
          "base_uri": "https://localhost:8080/"
        }
      },
      "source": [
        "!pip install ortools\n",
        "from ortools.sat.python import cp_model # CP-SAT solver\n",
        "import numpy as np\n",
        "from random import randint\n",
        "import random\n",
        "from math import ceil\n",
        "import pandas as pd\n",
        "import matplotlib.pyplot as plt # Data visualization\n",
        "#plt.rcParams[\"figure.figsize\"] = (15,10)"
      ],
      "execution_count": 33,
      "outputs": [
        {
          "output_type": "stream",
          "name": "stdout",
          "text": [
            "Requirement already satisfied: ortools in /usr/local/lib/python3.11/dist-packages (9.13.4784)\n",
            "Requirement already satisfied: absl-py>=2.0.0 in /usr/local/lib/python3.11/dist-packages (from ortools) (2.3.0)\n",
            "Requirement already satisfied: numpy>=1.13.3 in /usr/local/lib/python3.11/dist-packages (from ortools) (2.0.2)\n",
            "Requirement already satisfied: pandas>=2.0.0 in /usr/local/lib/python3.11/dist-packages (from ortools) (2.2.2)\n",
            "Requirement already satisfied: protobuf<6.32,>=6.31.0 in /usr/local/lib/python3.11/dist-packages (from ortools) (6.31.1)\n",
            "Requirement already satisfied: typing-extensions>=4.12 in /usr/local/lib/python3.11/dist-packages (from ortools) (4.14.0)\n",
            "Requirement already satisfied: immutabledict>=3.0.0 in /usr/local/lib/python3.11/dist-packages (from ortools) (4.2.1)\n",
            "Requirement already satisfied: python-dateutil>=2.8.2 in /usr/local/lib/python3.11/dist-packages (from pandas>=2.0.0->ortools) (2.9.0.post0)\n",
            "Requirement already satisfied: pytz>=2020.1 in /usr/local/lib/python3.11/dist-packages (from pandas>=2.0.0->ortools) (2025.2)\n",
            "Requirement already satisfied: tzdata>=2022.7 in /usr/local/lib/python3.11/dist-packages (from pandas>=2.0.0->ortools) (2025.2)\n",
            "Requirement already satisfied: six>=1.5 in /usr/local/lib/python3.11/dist-packages (from python-dateutil>=2.8.2->pandas>=2.0.0->ortools) (1.17.0)\n"
          ]
        }
      ]
    },
    {
      "cell_type": "code",
      "source": [
        "matrix = [\n",
        "    [5,  0,  0,  5,  0,  0,  4],\n",
        "    [0,  8, -1,  0,  0, -1,  0],\n",
        "    [0,  0,  2,  0,  0,  8,  0],\n",
        "    [0, -1,  0,  4,  0,  0,  0],\n",
        "    [4,  0,  2,  0,  2,  0,  5],\n",
        "    [0,  0,  0,  5,  0, -1,  0],\n",
        "    [0,  8,  0,  0,  8,  0,  0],\n",
        "    [0, -1,  0,  0, -1,  4,  0],\n",
        "    [5,  0,  0,  4,  0,  0,  2],\n",
        "]\n",
        "total = 20\n",
        "\n",
        "\n",
        "matrix = [\n",
        "    [4,  7,  0,  0,  0,  0,  3],\n",
        "    [0,  0,  0,  0,  3,  0,  4],\n",
        "    [0,  0,  4,  0,  7,  0,  0],\n",
        "    [7,  0,  3,  0,  0,  0,  0],\n",
        "    [-1, -1, -1, 0,  3,  0,  0],\n",
        "    [-1, -1, 0,  7,  0,  0,  7],\n",
        "    [-1, -1, 0,  0,  0,  4, -1],\n",
        "    [-1, 4,  4,  0,  0,  0, -1],\n",
        "    [-1, 0,  0,  0,  0,  3, -1],\n",
        "    [0,  0,  3,  0,  4, -1, -1],\n",
        "    [3,  0,  0,  0,  0, -1, -1],\n",
        "    [7,  0,  7,  4, -1, -1, -1],\n",
        "]\n",
        "total = 16\n",
        "\n",
        "matrix = [\n",
        "    [4,  7,  0,  0,  0,  0,  3],   # Row 1\n",
        "    [0,  0,  0,  0,  3,  0,  4],   # Row 2\n",
        "    [0,  0,  4,  0,  7,  0,  0],   # Row 3\n",
        "    [7,  0,  3,  0,  0,  0,  0],   # Row 4\n",
        "    [-1, -1, -1, 0,  3,  0,  0],   # Row 5\n",
        "    [-1, -1, 0,  7,  0,  0,  7],   # Row 6\n",
        "    [-1, -1, 0,  0,  0,  4, -1],   # Row 7\n",
        "    [-1,  4,  4,  0,  0,  0, -1],  # Row 8\n",
        "    [-1,  0,  0,  0,  0,  3, -1],  # Row 9\n",
        "    [0,  0,  3,  0,  4, -1, -1],   # Row 10\n",
        "    [3,  0,  0,  0,  0, -1, -1],   # Row 11\n",
        "    [7,  0,  7,  4, -1, -1, -1],   # Row 12\n",
        "]\n",
        "total = 16\n",
        "\n",
        "\n",
        "cell_dict = {}\n",
        "cell_number = 0\n",
        "for i, row in enumerate(matrix):\n",
        "    for j, value in enumerate(row):\n",
        "        cell_dict[cell_number] = {'x': i, 'y': j, 'value': value}\n",
        "        cell_number += 1\n",
        "\n",
        "# Example: print the first 5 cells\n",
        "for k in range(5):\n",
        "    print(f\"Cell {k}: {cell_dict[k]}\")"
      ],
      "metadata": {
        "id": "CFwTJ91NUzn9",
        "colab": {
          "base_uri": "https://localhost:8080/"
        },
        "outputId": "934eb28c-46b9-44e0-df57-ac880ba40121"
      },
      "execution_count": 38,
      "outputs": [
        {
          "output_type": "stream",
          "name": "stdout",
          "text": [
            "Cell 0: {'x': 0, 'y': 0, 'value': 4}\n",
            "Cell 1: {'x': 0, 'y': 1, 'value': 7}\n",
            "Cell 2: {'x': 0, 'y': 2, 'value': 0}\n",
            "Cell 3: {'x': 0, 'y': 3, 'value': 0}\n",
            "Cell 4: {'x': 0, 'y': 4, 'value': 0}\n"
          ]
        }
      ]
    },
    {
      "cell_type": "code",
      "source": [
        "df = pd.DataFrame()\n",
        "N = cell_number\n",
        "\n",
        "nodes = [n for n in range(N)]\n",
        "df['X'] = [cell_dict[n]['y'] for n in nodes]\n",
        "df['Y'] = [cell_dict[n]['x'] for n in nodes]\n",
        "df['V'] = [cell_dict[n]['value'] for n in nodes]\n",
        "\n",
        "\n",
        "\n",
        "def dist(i,j,df):\n",
        "  x1,y1 = df.loc[i,'X'],df.loc[i,'Y']\n",
        "  x2,y2 = df.loc[j,'X'],df.loc[j,'Y']\n",
        "  return int(1000*np.sqrt( (x1-x2)**2 +(y1-y2)**2))\n",
        "\n",
        "plt.figure(figsize=(6,6))\n",
        "\n",
        "plt.scatter(df['X'],df['Y'],s=20)\n",
        "for n in nodes:\n",
        "  x1,y1 = df.loc[n,'X'],df.loc[n,'Y']\n",
        "  if df.loc[n,'V']<0:\n",
        "    plt.scatter(x1,y1, s=300,color='k',marker='s')\n",
        "  elif df.loc[n,'V']>0:\n",
        "    plt.text(x1,y1, s=str(df.loc[n,'V']), fontsize=16)\n",
        "\n",
        "plt.xticks([])\n",
        "plt.yticks([])\n",
        "plt.show()\n",
        "\n",
        "\n",
        "allowed = [(i,j) for i in nodes for j in nodes if i!=j and abs(df.loc[i,'X']-df.loc[j,'X'])+ abs(df.loc[i,'Y']-df.loc[j,'Y'])<=1]\n"
      ],
      "metadata": {
        "colab": {
          "base_uri": "https://localhost:8080/",
          "height": 499
        },
        "id": "yU46bQJO2WvI",
        "outputId": "c83a79f2-e1c9-4a4f-8d42-e943a05c1c48"
      },
      "execution_count": 39,
      "outputs": [
        {
          "output_type": "display_data",
          "data": {
            "text/plain": [
              "<Figure size 600x600 with 1 Axes>"
            ],
            "image/png": "[encoded data removed]"
          },
          "metadata": {}
        }
      ]
    },
    {
      "cell_type": "code",
      "metadata": {
        "id": "yyF-IzKMcyrj",
        "colab": {
          "base_uri": "https://localhost:8080/"
        },
        "outputId": "a232cecd-f410-4a63-ce32-d44d2cfef367"
      },
      "source": [
        "model = cp_model.CpModel()\n",
        "solver = cp_model.CpSolver()\n",
        "\n",
        "U = {(i,j):model.NewBoolVar(f\"connection_{i}_{j}\")  for (i,j) in allowed}\n",
        "\n",
        "considered = {i:model.NewBoolVar(f\"considered_{i}\")  for i in nodes}\n",
        "\n",
        "for i in nodes:\n",
        "  if df.loc[i,'V']<0:\n",
        "    considered[i]=False\n",
        "\n",
        "\n",
        "arcs = [(i,j,v) for (i,j),v in U.items() ] +  [(i,i,v.Not()) for i,v in considered.items() if isinstance(v,cp_model.IntVar)] + [(i,i,True) for i,v in considered.items() if not isinstance(v,cp_model.IntVar)]\n",
        "model.AddCircuit(arcs)\n",
        "\n",
        "# Maximize x\n",
        "expressions = [v for (i,j),v in U.items() ]\n",
        "model.Add(sum(expressions) == total)\n",
        "\n",
        "expressions_of = [v*df.loc[i,'V'] for i,v in considered.items() ]\n",
        "\n",
        "model.Maximize(sum(expressions_of))\n",
        "status = solver.Solve(model)\n",
        "print(solver.ObjectiveValue())\n",
        "print(f'Status = {solver.StatusName(status)}')\n",
        "if status == cp_model.INFEASIBLE:\n",
        "    print('SufficientAssumptionsForInfeasibility = '\n",
        "          f'{solver.SufficientAssumptionsForInfeasibility()}')\n"
      ],
      "execution_count": 43,
      "outputs": [
        {
          "output_type": "stream",
          "name": "stdout",
          "text": [
            "36.0\n",
            "Status = OPTIMAL\n"
          ]
        }
      ]
    },
    {
      "cell_type": "code",
      "source": [
        "plt.figure(figsize=(6,6))\n",
        "\n",
        "plt.scatter(df['X'],df['Y'],s=20)\n",
        "for n in nodes:\n",
        "  x1,y1 = df.loc[n,'X'],df.loc[n,'Y']\n",
        "  if df.loc[n,'V']<0:\n",
        "    plt.scatter(x1,y1, s=300,color='k',marker='s')\n",
        "  elif df.loc[n,'V']>0:\n",
        "    plt.text(x1,y1, s=str(df.loc[n,'V']), fontsize=16)\n",
        "\n",
        "for (i,j),v in U.items():\n",
        "  if solver.Value(v)>0:\n",
        "    x1,y1 = df.loc[i,'X'],df.loc[i,'Y']\n",
        "    x2,y2 = df.loc[j,'X'],df.loc[j,'Y']\n",
        "    plt.plot([x1,x2],[y1,y2], lw= 2)\n",
        "plt.xticks([])\n",
        "plt.yticks([])\n",
        "plt.show()"
      ],
      "metadata": {
        "colab": {
          "base_uri": "https://localhost:8080/",
          "height": 499
        },
        "id": "bOa2iica6mbn",
        "outputId": "c8e6a558-65a0-4f6e-ec5f-c5f151c5f898"
      },
      "execution_count": 44,
      "outputs": [
        {
          "output_type": "display_data",
          "data": {
            "text/plain": [
              "<Figure size 600x600 with 1 Axes>"
            ],
            "image/png": "[encoded data removed]"
          },
          "metadata": {}
        }
      ]
    },
    {
      "cell_type": "code",
      "source": [],
      "metadata": {
        "id": "Frv3UCMgLWPQ"
      },
      "execution_count": 37,
      "outputs": []
    }
  ]
}