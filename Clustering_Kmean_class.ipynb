{
  "cells": [
    {
      "cell_type": "markdown",
      "metadata": {
        "id": "view-in-github",
        "colab_type": "text"
      },
      "source": [
        "<a href=\"https://colab.research.google.com/github/OptimizationExpert/Pyomo/blob/main/Clustering_Kmean_class.ipynb\" target=\"_parent\"><img src=\"https://colab.research.google.com/assets/colab-badge.svg\" alt=\"Open In Colab\"/></a>"
      ]
    },
    {
      "cell_type": "markdown",
      "metadata": {
        "id": "oPrjdRysqXo5"
      },
      "source": [
        "Developed by Alireza Soroudi\n",
        "alireza.soroudi@gmail.com\n",
        "\n",
        "Linkedin News letter : https://www.linkedin.com/newsletters/optimization-in-open-source-6874020019009859585/\n",
        "\n",
        "Git hub: https://github.com/OptimizationExpert/Pyomo\n"
      ]
    },
    {
      "cell_type": "code",
      "execution_count": null,
      "metadata": {
        "id": "HtMwjJMo_kE6"
      },
      "outputs": [],
      "source": [
        "!pip install -q pyomo\n",
        "from pyomo.environ import *\n",
        "import copy\n",
        "\n",
        "\n",
        "from pyomo import environ as pe\n",
        "import os\n",
        "\n",
        "os.environ['NEOS_EMAIL'] = 'XXXXXX@gmail.com'\n",
        "opt = pe.SolverManagerFactory('neos')\n",
        "\n",
        "#!wget -N -q \"https://github.com/thomasfork/ipopt_linux/raw/main/ipopt-linux64.zip\"\n",
        "#!unzip -o -q ipopt-linux64\n",
        "#opt = SolverFactory('ipopt', executable='/content/ipopt')"
      ]
    },
    {
      "cell_type": "code",
      "execution_count": null,
      "metadata": {
        "id": "pQC338vq_XDn"
      },
      "outputs": [],
      "source": [
        "import networkx as nx\n",
        "import matplotlib.pyplot as plt # Data visualization\n",
        "import pandas as pd\n",
        "import numpy as np\n",
        "import time\n",
        "import random"
      ]
    },
    {
      "cell_type": "markdown",
      "metadata": {
        "id": "Us3Rpb-VqNlc"
      },
      "source": [
        "$$\\forall_{i,k} \\ \\ \\ \\ \\  d_{i,k} \\geq \\sum_p (X_{i,p}-\\mu_{k,p})^2 - M(1-U_{i,k})$$\n",
        "\n",
        "$$\\forall_i \\ \\ \\ \\sum_k U_{i,k}=1$$\n",
        "\n",
        "$$\\min_{U_,\\mu} OF= \\sum_{i,k}\\forall_{i,k}$$\n"
      ]
    },
    {
      "cell_type": "code",
      "execution_count": null,
      "metadata": {
        "id": "nT5VbbHRqEZr"
      },
      "outputs": [],
      "source": [
        "df= pd.DataFrame()\n",
        "N = 30\n",
        "Kcluster = 3\n",
        "df['x'] = [random.randint(0,3)+(0.5-random.random()) for i in range(N)]\n",
        "df['y'] = [random.randint(0,3)+(0.5-random.random()) for i in range(N)]"
      ]
    },
    {
      "cell_type": "code",
      "execution_count": null,
      "metadata": {
        "id": "DtsOAEUfxQZD",
        "colab": {
          "base_uri": "https://localhost:8080/",
          "height": 540
        },
        "outputId": "359f0413-5f14-41f9-865c-6396a4937ce2"
      },
      "outputs": [
        {
          "output_type": "execute_result",
          "data": {
            "text/plain": [
              "<matplotlib.collections.PathCollection at 0x7bba8f679cf0>"
            ]
          },
          "metadata": {},
          "execution_count": 38
        },
        {
          "output_type": "display_data",
          "data": {
            "text/plain": [
              "<Figure size 600x600 with 1 Axes>"
            ],
            "image/png": "[encoded data removed]"
          },
          "metadata": {}
        }
      ],
      "source": [
        "plt.figure(figsize=(6,6))\n",
        "plt.scatter(df[\"x\"],df[\"y\"], s=  50)"
      ]
    },
    {
      "cell_type": "markdown",
      "metadata": {
        "id": "n-p84G1k8Uep"
      },
      "source": []
    },
    {
      "cell_type": "markdown",
      "metadata": {
        "id": "vWCtZjqL8Ubk"
      },
      "source": []
    },
    {
      "cell_type": "code",
      "execution_count": null,
      "metadata": {
        "id": "MiBZog3dx-qQ"
      },
      "outputs": [],
      "source": []
    },
    {
      "cell_type": "code",
      "execution_count": null,
      "metadata": {
        "id": "L7gUFyvdqEeX",
        "colab": {
          "base_uri": "https://localhost:8080/",
          "height": 990
        },
        "outputId": "27f0ff3d-5e97-4085-a62c-6fde5f9b4c15"
      },
      "outputs": [
        {
          "output_type": "execute_result",
          "data": {
            "text/plain": [
              "           x         y\n",
              "0   0.187026 -0.422885\n",
              "1   0.420190  1.057513\n",
              "2   3.482497  1.365564\n",
              "3   3.205376 -0.456993\n",
              "4   1.199737  1.185130\n",
              "5   2.399816  1.426568\n",
              "6  -0.260194  3.057673\n",
              "7  -0.377020  2.942529\n",
              "8   0.939371 -0.023406\n",
              "9   1.614755  1.816510\n",
              "10  3.030900  1.372515\n",
              "11  0.735238  2.662303\n",
              "12  3.149366  1.908935\n",
              "13  1.644236  2.942909\n",
              "14  2.177196  0.766498\n",
              "15  0.539502  0.451881\n",
              "16  2.265196  2.286545\n",
              "17  1.483374  0.616614\n",
              "18  1.400418  1.602659\n",
              "19 -0.179868 -0.452139\n",
              "20  0.902008  1.540868\n",
              "21  0.697423  2.192745\n",
              "22  2.664715  0.595353\n",
              "23  1.746641  3.348775\n",
              "24  1.733469  1.142788\n",
              "25  3.322407  0.722252\n",
              "26  1.746695  2.434644\n",
              "27  1.141096  1.657486\n",
              "28  2.637402 -0.201436\n",
              "29  0.095249  1.297269"
            ],
            "text/html": [
              "\n",
              "  <div id=\"df-f1a558e1-f525-4593-ac77-4e6ec98e2ad9\" class=\"colab-df-container\">\n",
              "    <div>\n",
              "<style scoped>\n",
              "    .dataframe tbody tr th:only-of-type {\n",
              "        vertical-align: middle;\n",
              "    }\n",
              "\n",
              "    .dataframe tbody tr th {\n",
              "        vertical-align: top;\n",
              "    }\n",
              "\n",
              "    .dataframe thead th {\n",
              "        text-align: right;\n",
              "    }\n",
              "</style>\n",
              "<table border=\"1\" class=\"dataframe\">\n",
              "  <thead>\n",
              "    <tr style=\"text-align: right;\">\n",
              "      <th></th>\n",
              "      <th>x</th>\n",
              "      <th>y</th>\n",
              "    </tr>\n",
              "  </thead>\n",
              "  <tbody>\n",
              "    <tr>\n",
              "      <th>0</th>\n",
              "      <td>0.187026</td>\n",
              "      <td>-0.422885</td>\n",
              "    </tr>\n",
              "    <tr>\n",
              "      <th>1</th>\n",
              "      <td>0.420190</td>\n",
              "      <td>1.057513</td>\n",
              "    </tr>\n",
              "    <tr>\n",
              "      <th>2</th>\n",
              "      <td>3.482497</td>\n",
              "      <td>1.365564</td>\n",
              "    </tr>\n",
              "    <tr>\n",
              "      <th>3</th>\n",
              "      <td>3.205376</td>\n",
              "      <td>-0.456993</td>\n",
              "    </tr>\n",
              "    <tr>\n",
              "      <th>4</th>\n",
              "      <td>1.199737</td>\n",
              "      <td>1.185130</td>\n",
              "    </tr>\n",
              "    <tr>\n",
              "      <th>5</th>\n",
              "      <td>2.399816</td>\n",
              "      <td>1.426568</td>\n",
              "    </tr>\n",
              "    <tr>\n",
              "      <th>6</th>\n",
              "      <td>-0.260194</td>\n",
              "      <td>3.057673</td>\n",
              "    </tr>\n",
              "    <tr>\n",
              "      <th>7</th>\n",
              "      <td>-0.377020</td>\n",
              "      <td>2.942529</td>\n",
              "    </tr>\n",
              "    <tr>\n",
              "      <th>8</th>\n",
              "      <td>0.939371</td>\n",
              "      <td>-0.023406</td>\n",
              "    </tr>\n",
              "    <tr>\n",
              "      <th>9</th>\n",
              "      <td>1.614755</td>\n",
              "      <td>1.816510</td>\n",
              "    </tr>\n",
              "    <tr>\n",
              "      <th>10</th>\n",
              "      <td>3.030900</td>\n",
              "      <td>1.372515</td>\n",
              "    </tr>\n",
              "    <tr>\n",
              "      <th>11</th>\n",
              "      <td>0.735238</td>\n",
              "      <td>2.662303</td>\n",
              "    </tr>\n",
              "    <tr>\n",
              "      <th>12</th>\n",
              "      <td>3.149366</td>\n",
              "      <td>1.908935</td>\n",
              "    </tr>\n",
              "    <tr>\n",
              "      <th>13</th>\n",
              "      <td>1.644236</td>\n",
              "      <td>2.942909</td>\n",
              "    </tr>\n",
              "    <tr>\n",
              "      <th>14</th>\n",
              "      <td>2.177196</td>\n",
              "      <td>0.766498</td>\n",
              "    </tr>\n",
              "    <tr>\n",
              "      <th>15</th>\n",
              "      <td>0.539502</td>\n",
              "      <td>0.451881</td>\n",
              "    </tr>\n",
              "    <tr>\n",
              "      <th>16</th>\n",
              "      <td>2.265196</td>\n",
              "      <td>2.286545</td>\n",
              "    </tr>\n",
              "    <tr>\n",
              "      <th>17</th>\n",
              "      <td>1.483374</td>\n",
              "      <td>0.616614</td>\n",
              "    </tr>\n",
              "    <tr>\n",
              "      <th>18</th>\n",
              "      <td>1.400418</td>\n",
              "      <td>1.602659</td>\n",
              "    </tr>\n",
              "    <tr>\n",
              "      <th>19</th>\n",
              "      <td>-0.179868</td>\n",
              "      <td>-0.452139</td>\n",
              "    </tr>\n",
              "    <tr>\n",
              "      <th>20</th>\n",
              "      <td>0.902008</td>\n",
              "      <td>1.540868</td>\n",
              "    </tr>\n",
              "    <tr>\n",
              "      <th>21</th>\n",
              "      <td>0.697423</td>\n",
              "      <td>2.192745</td>\n",
              "    </tr>\n",
              "    <tr>\n",
              "      <th>22</th>\n",
              "      <td>2.664715</td>\n",
              "      <td>0.595353</td>\n",
              "    </tr>\n",
              "    <tr>\n",
              "      <th>23</th>\n",
              "      <td>1.746641</td>\n",
              "      <td>3.348775</td>\n",
              "    </tr>\n",
              "    <tr>\n",
              "      <th>24</th>\n",
              "      <td>1.733469</td>\n",
              "      <td>1.142788</td>\n",
              "    </tr>\n",
              "    <tr>\n",
              "      <th>25</th>\n",
              "      <td>3.322407</td>\n",
              "      <td>0.722252</td>\n",
              "    </tr>\n",
              "    <tr>\n",
              "      <th>26</th>\n",
              "      <td>1.746695</td>\n",
              "      <td>2.434644</td>\n",
              "    </tr>\n",
              "    <tr>\n",
              "      <th>27</th>\n",
              "      <td>1.141096</td>\n",
              "      <td>1.657486</td>\n",
              "    </tr>\n",
              "    <tr>\n",
              "      <th>28</th>\n",
              "      <td>2.637402</td>\n",
              "      <td>-0.201436</td>\n",
              "    </tr>\n",
              "    <tr>\n",
              "      <th>29</th>\n",
              "      <td>0.095249</td>\n",
              "      <td>1.297269</td>\n",
              "    </tr>\n",
              "  </tbody>\n",
              "</table>\n",
              "</div>\n",
              "    <div class=\"colab-df-buttons\">\n",
              "\n",
              "  <div class=\"colab-df-container\">\n",
              "    <button class=\"colab-df-convert\" onclick=\"convertToInteractive('df-f1a558e1-f525-4593-ac77-4e6ec98e2ad9')\"\n",
              "            title=\"Convert this dataframe to an interactive table.\"\n",
              "            style=\"display:none;\">\n",
              "\n",
              "  <svg xmlns=\"http://www.w3.org/2000/svg\" height=\"24px\" viewBox=\"0 -960 960 960\">\n",
              "    <path d=\"M120-120v-720h720v720H120Zm60-500h600v-160H180v160Zm220 220h160v-160H400v160Zm0 220h160v-160H400v160ZM180-400h160v-160H180v160Zm440 0h160v-160H620v160ZM180-180h160v-160H180v160Zm440 0h160v-160H620v160Z\"/>\n",
              "  </svg>\n",
              "    </button>\n",
              "\n",
              "  <style>\n",
              "    .colab-df-container {\n",
              "      display:flex;\n",
              "      gap: 12px;\n",
              "    }\n",
              "\n",
              "    .colab-df-convert {\n",
              "      background-color: #E8F0FE;\n",
              "      border: none;\n",
              "      border-radius: 50%;\n",
              "      cursor: pointer;\n",
              "      display: none;\n",
              "      fill: #1967D2;\n",
              "      height: 32px;\n",
              "      padding: 0 0 0 0;\n",
              "      width: 32px;\n",
              "    }\n",
              "\n",
              "    .colab-df-convert:hover {\n",
              "      background-color: #E2EBFA;\n",
              "      box-shadow: 0px 1px 2px rgba(60, 64, 67, 0.3), 0px 1px 3px 1px rgba(60, 64, 67, 0.15);\n",
              "      fill: #174EA6;\n",
              "    }\n",
              "\n",
              "    .colab-df-buttons div {\n",
              "      margin-bottom: 4px;\n",
              "    }\n",
              "\n",
              "    [theme=dark] .colab-df-convert {\n",
              "      background-color: #3B4455;\n",
              "      fill: #D2E3FC;\n",
              "    }\n",
              "\n",
              "    [theme=dark] .colab-df-convert:hover {\n",
              "      background-color: #434B5C;\n",
              "      box-shadow: 0px 1px 3px 1px rgba(0, 0, 0, 0.15);\n",
              "      filter: drop-shadow(0px 1px 2px rgba(0, 0, 0, 0.3));\n",
              "      fill: #FFFFFF;\n",
              "    }\n",
              "  </style>\n",
              "\n",
              "    <script>\n",
              "      const buttonEl =\n",
              "        document.querySelector('#df-f1a558e1-f525-4593-ac77-4e6ec98e2ad9 button.colab-df-convert');\n",
              "      buttonEl.style.display =\n",
              "        google.colab.kernel.accessAllowed ? 'block' : 'none';\n",
              "\n",
              "      async function convertToInteractive(key) {\n",
              "        const element = document.querySelector('#df-f1a558e1-f525-4593-ac77-4e6ec98e2ad9');\n",
              "        const dataTable =\n",
              "          await google.colab.kernel.invokeFunction('convertToInteractive',\n",
              "                                                    [key], {});\n",
              "        if (!dataTable) return;\n",
              "\n",
              "        const docLinkHtml = 'Like what you see? Visit the ' +\n",
              "          '<a target=\"_blank\" href=https://colab.research.google.com/notebooks/data_table.ipynb>data table notebook</a>'\n",
              "          + ' to learn more about interactive tables.';\n",
              "        element.innerHTML = '';\n",
              "        dataTable['output_type'] = 'display_data';\n",
              "        await google.colab.output.renderOutput(dataTable, element);\n",
              "        const docLink = document.createElement('div');\n",
              "        docLink.innerHTML = docLinkHtml;\n",
              "        element.appendChild(docLink);\n",
              "      }\n",
              "    </script>\n",
              "  </div>\n",
              "\n",
              "\n",
              "<div id=\"df-50cadbbb-9a57-4b4d-9ff5-5466c5b46776\">\n",
              "  <button class=\"colab-df-quickchart\" onclick=\"quickchart('df-50cadbbb-9a57-4b4d-9ff5-5466c5b46776')\"\n",
              "            title=\"Suggest charts\"\n",
              "            style=\"display:none;\">\n",
              "\n",
              "<svg xmlns=\"http://www.w3.org/2000/svg\" height=\"24px\"viewBox=\"0 0 24 24\"\n",
              "     width=\"24px\">\n",
              "    <g>\n",
              "        <path d=\"M19 3H5c-1.1 0-2 .9-2 2v14c0 1.1.9 2 2 2h14c1.1 0 2-.9 2-2V5c0-1.1-.9-2-2-2zM9 17H7v-7h2v7zm4 0h-2V7h2v10zm4 0h-2v-4h2v4z\"/>\n",
              "    </g>\n",
              "</svg>\n",
              "  </button>\n",
              "\n",
              "<style>\n",
              "  .colab-df-quickchart {\n",
              "      --bg-color: #E8F0FE;\n",
              "      --fill-color: #1967D2;\n",
              "      --hover-bg-color: #E2EBFA;\n",
              "      --hover-fill-color: #174EA6;\n",
              "      --disabled-fill-color: #AAA;\n",
              "      --disabled-bg-color: #DDD;\n",
              "  }\n",
              "\n",
              "  [theme=dark] .colab-df-quickchart {\n",
              "      --bg-color: #3B4455;\n",
              "      --fill-color: #D2E3FC;\n",
              "      --hover-bg-color: #434B5C;\n",
              "      --hover-fill-color: #FFFFFF;\n",
              "      --disabled-bg-color: #3B4455;\n",
              "      --disabled-fill-color: #666;\n",
              "  }\n",
              "\n",
              "  .colab-df-quickchart {\n",
              "    background-color: var(--bg-color);\n",
              "    border: none;\n",
              "    border-radius: 50%;\n",
              "    cursor: pointer;\n",
              "    display: none;\n",
              "    fill: var(--fill-color);\n",
              "    height: 32px;\n",
              "    padding: 0;\n",
              "    width: 32px;\n",
              "  }\n",
              "\n",
              "  .colab-df-quickchart:hover {\n",
              "    background-color: var(--hover-bg-color);\n",
              "    box-shadow: 0 1px 2px rgba(60, 64, 67, 0.3), 0 1px 3px 1px rgba(60, 64, 67, 0.15);\n",
              "    fill: var(--button-hover-fill-color);\n",
              "  }\n",
              "\n",
              "  .colab-df-quickchart-complete:disabled,\n",
              "  .colab-df-quickchart-complete:disabled:hover {\n",
              "    background-color: var(--disabled-bg-color);\n",
              "    fill: var(--disabled-fill-color);\n",
              "    box-shadow: none;\n",
              "  }\n",
              "\n",
              "  .colab-df-spinner {\n",
              "    border: 2px solid var(--fill-color);\n",
              "    border-color: transparent;\n",
              "    border-bottom-color: var(--fill-color);\n",
              "    animation:\n",
              "      spin 1s steps(1) infinite;\n",
              "  }\n",
              "\n",
              "  @keyframes spin {\n",
              "    0% {\n",
              "      border-color: transparent;\n",
              "      border-bottom-color: var(--fill-color);\n",
              "      border-left-color: var(--fill-color);\n",
              "    }\n",
              "    20% {\n",
              "      border-color: transparent;\n",
              "      border-left-color: var(--fill-color);\n",
              "      border-top-color: var(--fill-color);\n",
              "    }\n",
              "    30% {\n",
              "      border-color: transparent;\n",
              "      border-left-color: var(--fill-color);\n",
              "      border-top-color: var(--fill-color);\n",
              "      border-right-color: var(--fill-color);\n",
              "    }\n",
              "    40% {\n",
              "      border-color: transparent;\n",
              "      border-right-color: var(--fill-color);\n",
              "      border-top-color: var(--fill-color);\n",
              "    }\n",
              "    60% {\n",
              "      border-color: transparent;\n",
              "      border-right-color: var(--fill-color);\n",
              "    }\n",
              "    80% {\n",
              "      border-color: transparent;\n",
              "      border-right-color: var(--fill-color);\n",
              "      border-bottom-color: var(--fill-color);\n",
              "    }\n",
              "    90% {\n",
              "      border-color: transparent;\n",
              "      border-bottom-color: var(--fill-color);\n",
              "    }\n",
              "  }\n",
              "</style>\n",
              "\n",
              "  <script>\n",
              "    async function quickchart(key) {\n",
              "      const quickchartButtonEl =\n",
              "        document.querySelector('#' + key + ' button');\n",
              "      quickchartButtonEl.disabled = true;  // To prevent multiple clicks.\n",
              "      quickchartButtonEl.classList.add('colab-df-spinner');\n",
              "      try {\n",
              "        const charts = await google.colab.kernel.invokeFunction(\n",
              "            'suggestCharts', [key], {});\n",
              "      } catch (error) {\n",
              "        console.error('Error during call to suggestCharts:', error);\n",
              "      }\n",
              "      quickchartButtonEl.classList.remove('colab-df-spinner');\n",
              "      quickchartButtonEl.classList.add('colab-df-quickchart-complete');\n",
              "    }\n",
              "    (() => {\n",
              "      let quickchartButtonEl =\n",
              "        document.querySelector('#df-50cadbbb-9a57-4b4d-9ff5-5466c5b46776 button');\n",
              "      quickchartButtonEl.style.display =\n",
              "        google.colab.kernel.accessAllowed ? 'block' : 'none';\n",
              "    })();\n",
              "  </script>\n",
              "</div>\n",
              "\n",
              "  <div id=\"id_c5dfdc73-2920-415b-885d-e4f9c9b837af\">\n",
              "    <style>\n",
              "      .colab-df-generate {\n",
              "        background-color: #E8F0FE;\n",
              "        border: none;\n",
              "        border-radius: 50%;\n",
              "        cursor: pointer;\n",
              "        display: none;\n",
              "        fill: #1967D2;\n",
              "        height: 32px;\n",
              "        padding: 0 0 0 0;\n",
              "        width: 32px;\n",
              "      }\n",
              "\n",
              "      .colab-df-generate:hover {\n",
              "        background-color: #E2EBFA;\n",
              "        box-shadow: 0px 1px 2px rgba(60, 64, 67, 0.3), 0px 1px 3px 1px rgba(60, 64, 67, 0.15);\n",
              "        fill: #174EA6;\n",
              "      }\n",
              "\n",
              "      [theme=dark] .colab-df-generate {\n",
              "        background-color: #3B4455;\n",
              "        fill: #D2E3FC;\n",
              "      }\n",
              "\n",
              "      [theme=dark] .colab-df-generate:hover {\n",
              "        background-color: #434B5C;\n",
              "        box-shadow: 0px 1px 3px 1px rgba(0, 0, 0, 0.15);\n",
              "        filter: drop-shadow(0px 1px 2px rgba(0, 0, 0, 0.3));\n",
              "        fill: #FFFFFF;\n",
              "      }\n",
              "    </style>\n",
              "    <button class=\"colab-df-generate\" onclick=\"generateWithVariable('df')\"\n",
              "            title=\"Generate code using this dataframe.\"\n",
              "            style=\"display:none;\">\n",
              "\n",
              "  <svg xmlns=\"http://www.w3.org/2000/svg\" height=\"24px\"viewBox=\"0 0 24 24\"\n",
              "       width=\"24px\">\n",
              "    <path d=\"M7,19H8.4L18.45,9,17,7.55,7,17.6ZM5,21V16.75L18.45,3.32a2,2,0,0,1,2.83,0l1.4,1.43a1.91,1.91,0,0,1,.58,1.4,1.91,1.91,0,0,1-.58,1.4L9.25,21ZM18.45,9,17,7.55Zm-12,3A5.31,5.31,0,0,0,4.9,8.1,5.31,5.31,0,0,0,1,6.5,5.31,5.31,0,0,0,4.9,4.9,5.31,5.31,0,0,0,6.5,1,5.31,5.31,0,0,0,8.1,4.9,5.31,5.31,0,0,0,12,6.5,5.46,5.46,0,0,0,6.5,12Z\"/>\n",
              "  </svg>\n",
              "    </button>\n",
              "    <script>\n",
              "      (() => {\n",
              "      const buttonEl =\n",
              "        document.querySelector('#id_c5dfdc73-2920-415b-885d-e4f9c9b837af button.colab-df-generate');\n",
              "      buttonEl.style.display =\n",
              "        google.colab.kernel.accessAllowed ? 'block' : 'none';\n",
              "\n",
              "      buttonEl.onclick = () => {\n",
              "        google.colab.notebook.generateWithVariable('df');\n",
              "      }\n",
              "      })();\n",
              "    </script>\n",
              "  </div>\n",
              "\n",
              "    </div>\n",
              "  </div>\n"
            ],
            "application/vnd.google.colaboratory.intrinsic+json": {
              "type": "dataframe",
              "variable_name": "df",
              "summary": "{\n  \"name\": \"df\",\n  \"rows\": 30,\n  \"fields\": [\n    {\n      \"column\": \"x\",\n      \"properties\": {\n        \"dtype\": \"number\",\n        \"std\": 1.1337888708647177,\n        \"min\": -0.37701964996148585,\n        \"max\": 3.4824970449019275,\n        \"num_unique_values\": 30,\n        \"samples\": [\n          1.1410962432101135,\n          0.5395019652374079,\n          1.7466413479503187\n        ],\n        \"semantic_type\": \"\",\n        \"description\": \"\"\n      }\n    },\n    {\n      \"column\": \"y\",\n      \"properties\": {\n        \"dtype\": \"number\",\n        \"std\": 1.0820566550875095,\n        \"min\": -0.45699307498294683,\n        \"max\": 3.348775369957172,\n        \"num_unique_values\": 30,\n        \"samples\": [\n          1.6574860493823633,\n          0.4518814147120972,\n          3.348775369957172\n        ],\n        \"semantic_type\": \"\",\n        \"description\": \"\"\n      }\n    }\n  ]\n}"
            }
          },
          "metadata": {},
          "execution_count": 39
        }
      ],
      "source": [
        "df"
      ]
    },
    {
      "cell_type": "code",
      "execution_count": null,
      "metadata": {
        "id": "D0m6Hv6MqEge",
        "colab": {
          "base_uri": "https://localhost:8080/"
        },
        "outputId": "54fe2e09-5292-4747-9c3d-6bd0a1a96dc4"
      },
      "outputs": [
        {
          "output_type": "stream",
          "name": "stderr",
          "text": [
            "<ipython-input-40-82040cfc532e>:3: FutureWarning: Series.__getitem__ treating keys as positions is deprecated. In a future version, integer keys will always be treated as labels (consistent with DataFrame behavior). To access a value by position, use `ser.iloc[pos]`\n",
            "  dist =[ sum( (df.iloc[ii-1][j-1]-df.iloc[i-1][j-1])**2 for j in [1,2]) for i in range(1,N+1) for ii in range(1,N+1)]\n"
          ]
        },
        {
          "output_type": "stream",
          "name": "stdout",
          "text": [
            "24.390311990225158\n"
          ]
        }
      ],
      "source": [
        "M = 100\n",
        "\n",
        "dist =[ sum( (df.iloc[ii-1][j-1]-df.iloc[i-1][j-1])**2 for j in [1,2]) for i in range(1,N+1) for ii in range(1,N+1)]\n",
        "print(max(dist))\n",
        "M = max(dist)"
      ]
    },
    {
      "cell_type": "code",
      "source": [
        "df.columns"
      ],
      "metadata": {
        "colab": {
          "base_uri": "https://localhost:8080/"
        },
        "id": "Hzds1m_Yzc9u",
        "outputId": "704d7c90-de55-401e-c152-139aa624bba6"
      },
      "execution_count": null,
      "outputs": [
        {
          "output_type": "execute_result",
          "data": {
            "text/plain": [
              "Index(['x', 'y'], dtype='object')"
            ]
          },
          "metadata": {},
          "execution_count": 41
        }
      ]
    },
    {
      "cell_type": "code",
      "execution_count": null,
      "metadata": {
        "colab": {
          "base_uri": "https://localhost:8080/"
        },
        "id": "89e0aBt4klX5",
        "outputId": "6952eeeb-8e7a-4e68-d2e4-44a7ed08443c"
      },
      "outputs": [
        {
          "output_type": "stream",
          "name": "stdout",
          "text": [
            "12.768760442733765\n"
          ]
        }
      ],
      "source": [
        "model = AbstractModel()\n",
        "model.i = RangeSet(N)\n",
        "model.j = Set(initialize=[c for c in df.columns])\n",
        "model.k = RangeSet(Kcluster)\n",
        "\n",
        "def rule_mu(model,k,j):\n",
        "  return (df[j].min(), df[j].max())\n",
        "model.mu = Var(model.k,model.j, bounds=rule_mu, within=Reals)\n",
        "\n",
        "model.U = Var(model.i,model.k, within=Binary)\n",
        "def rule_initx(model,i,j):\n",
        "  return df.loc[i-1,j]\n",
        "model.x = Param(model.i,model.j, initialize=rule_initx)\n",
        "model.d = Var(model.i,model.k, bounds=(0,M), within= Reals)\n",
        "\n",
        "def rule_c1(model,i,k):\n",
        "  return model.d[i,k]>= sum( (model.x[i,j]-model.mu[k,j])**2 for j in model.j) - M*(1-model.U[i,k])\n",
        "model.c1 = Constraint(model.i,model.k, rule=rule_c1)\n",
        "\n",
        "def rule_c2(model,i):\n",
        "  return sum(model.U[i,k] for k in model.k)==1\n",
        "model.c2 = Constraint(model.i, rule=rule_c2)\n",
        "\n",
        "def rule_c3(model,k1,k2):\n",
        "  if k1<k2:\n",
        "    return model.mu[k1,'x']<= 0.01+ model.mu[k2,'x']\n",
        "  else:\n",
        "    return Constraint.Skip\n",
        "model.c3 = Constraint(model.k,model.k, rule=rule_c3)\n",
        "\n",
        "def rule_c4(model,i1,i2,k):\n",
        "  if i2>i1 and sum( (model.x[i1,j]-model.x[i2,j])**2 for j in model.j)>M/2:\n",
        "    return model.U[i1,k]+model.U[i2,k]<=1\n",
        "  else:\n",
        "    return Constraint.Skip\n",
        "model.c4 = Constraint(model.i,model.i,model.k, rule=rule_c4)\n",
        "\n",
        "def rule_of(model):\n",
        "  return sum(model.d[i,k] for k in model.k for i in model.i)\n",
        "model.obj = Objective(rule=rule_of, sense=minimize)\n",
        "\n",
        "\n",
        "instance = model.create_instance()\n",
        "st= time.time()\n",
        "results = opt.solve(instance, solver = \"cplex\")\n",
        "print(time.time()-st)"
      ]
    },
    {
      "cell_type": "code",
      "execution_count": null,
      "metadata": {
        "colab": {
          "base_uri": "https://localhost:8080/",
          "height": 407
        },
        "id": "EcKCwdwHn5GO",
        "outputId": "7b10748d-6242-4957-c817-f2813b49c52b"
      },
      "outputs": [
        {
          "output_type": "stream",
          "name": "stdout",
          "text": [
            "30\n"
          ]
        },
        {
          "output_type": "display_data",
          "data": {
            "text/plain": [
              "<Figure size 600x400 with 1 Axes>"
            ],
            "image/png": "[encoded data removed]"
          },
          "metadata": {}
        }
      ],
      "source": [
        "plt.figure(figsize=(6,4))\n",
        "\n",
        "all= [sum([value(k*instance.U[i,k]) for k in instance.k]) for i in instance.i]\n",
        "print(len(all))\n",
        "for i in instance.i:\n",
        "  pass\n",
        "  #print(\"TAG300\", i, [value(k*instance.U[i,k]) for k in instance.k] )\n",
        "\n",
        "plt.scatter(df[\"x\"],df[\"y\"], c=all, s=  20)\n",
        "\n",
        "for k in instance.k:\n",
        "  xk,yk = value(instance.mu[k,'x']), value(instance.mu[k,'y'])\n",
        "  plt.scatter(xk,yk, s=  100)\n",
        "plt.xlabel(\"x1\", fontweight='bold')\n",
        "plt.ylabel(\"x2\", fontweight='bold')\n",
        "plt.xticks(fontweight='bold')\n",
        "plt.yticks(fontweight='bold')\n",
        "plt.show()"
      ]
    },
    {
      "cell_type": "markdown",
      "source": [
        "## Silhouette Score"
      ],
      "metadata": {
        "id": "AT5ACMgRsUmb"
      }
    },
    {
      "cell_type": "markdown",
      "source": [
        "1. For each data point, the average distance (a_i) to other data points within\n",
        "the same cluster is calculated. This value represents the similarity level of the data point to others in its cluster.\n",
        "\n",
        "2. For each data point, the average distance (b_i) to all other clusters it doesn’t belong to is computed. This value indicates how different the data point is from data points in other clusters."
      ],
      "metadata": {
        "id": "4CTwanSas6VJ"
      }
    },
    {
      "cell_type": "markdown",
      "source": [
        "Silhouette Score = (b_i — a_i) / max(a_i, b_i)\n",
        "\n"
      ],
      "metadata": {
        "id": "jBUzbWFqsXwL"
      }
    },
    {
      "cell_type": "code",
      "source": [
        "def dist(i,n):\n",
        "  return sum( (df.loc[i-1,j]-df.loc[n-1,j])**2 for j in df.columns)"
      ],
      "metadata": {
        "id": "x4Ao5mXOtXJ-"
      },
      "execution_count": null,
      "outputs": []
    },
    {
      "cell_type": "code",
      "execution_count": null,
      "metadata": {
        "colab": {
          "base_uri": "https://localhost:8080/"
        },
        "id": "8PhFEynbbsVH",
        "outputId": "8a166f97-e84b-412c-d67a-099ba45da519"
      },
      "outputs": [
        {
          "output_type": "stream",
          "name": "stdout",
          "text": [
            "0.6979704055226915\n"
          ]
        }
      ],
      "source": [
        "from re import S\n",
        "result = {}\n",
        "for i in instance.i:\n",
        "  cluster = int(sum([value(k*instance.U[i,k]) for k in instance.k]))\n",
        "  result[i] = cluster\n",
        "result\n",
        "\n",
        "silhouette = {}\n",
        "for i in instance.i:\n",
        "  k = result[i]\n",
        "  ai = sum([dist(i,n) for n in instance.i if result[n]==k])/ len([n for n in instance.i if result[n]==k])\n",
        "  bi = sum([dist(i,n) for n in instance.i if result[n]!=k])/ len([n for n in instance.i if result[n]!=k])\n",
        "  #print(i,k,ai,bi, (bi-ai)/max(ai,bi))\n",
        "  si = (bi-ai)/max(ai,bi)\n",
        "  silhouette[i] = si\n",
        "S = sum(silhouette.values())/len(silhouette)\n",
        "print(S)"
      ]
    },
    {
      "cell_type": "code",
      "execution_count": null,
      "metadata": {
        "colab": {
          "base_uri": "https://localhost:8080/"
        },
        "id": "lrxX4hxvbsXt",
        "outputId": "f162eae3-2cc2-474e-fe11-d6ad9af715cf"
      },
      "outputs": [
        {
          "output_type": "execute_result",
          "data": {
            "text/plain": [
              "(           x         y\n",
              " 0   0.187026 -0.422885\n",
              " 1   0.420190  1.057513\n",
              " 2   3.482497  1.365564\n",
              " 3   3.205376 -0.456993\n",
              " 4   1.199737  1.185130\n",
              " 5   2.399816  1.426568\n",
              " 6  -0.260194  3.057673\n",
              " 7  -0.377020  2.942529\n",
              " 8   0.939371 -0.023406\n",
              " 9   1.614755  1.816510\n",
              " 10  3.030900  1.372515\n",
              " 11  0.735238  2.662303\n",
              " 12  3.149366  1.908935\n",
              " 13  1.644236  2.942909\n",
              " 14  2.177196  0.766498\n",
              " 15  0.539502  0.451881\n",
              " 16  2.265196  2.286545\n",
              " 17  1.483374  0.616614\n",
              " 18  1.400418  1.602659\n",
              " 19 -0.179868 -0.452139\n",
              " 20  0.902008  1.540868\n",
              " 21  0.697423  2.192745\n",
              " 22  2.664715  0.595353\n",
              " 23  1.746641  3.348775\n",
              " 24  1.733469  1.142788\n",
              " 25  3.322407  0.722252\n",
              " 26  1.746695  2.434644\n",
              " 27  1.141096  1.657486\n",
              " 28  2.637402 -0.201436\n",
              " 29  0.095249  1.297269,\n",
              " 30)"
            ]
          },
          "metadata": {},
          "execution_count": 46
        }
      ],
      "source": [
        "df,N"
      ]
    },
    {
      "cell_type": "markdown",
      "source": [
        "# K-Memoids"
      ],
      "metadata": {
        "id": "Gtuo0_n07ijl"
      }
    },
    {
      "cell_type": "code",
      "execution_count": null,
      "metadata": {
        "colab": {
          "base_uri": "https://localhost:8080/"
        },
        "id": "TL-0w1h5bsaL",
        "outputId": "3d76b33f-b74a-41cd-86b4-a8795d87ec8e"
      },
      "outputs": [
        {
          "output_type": "stream",
          "name": "stdout",
          "text": [
            "309.7168815135956\n"
          ]
        }
      ],
      "source": [
        "model = AbstractModel()\n",
        "model.i = RangeSet(N)\n",
        "model.j = Set(initialize=[c for c in df.columns])\n",
        "model.k = RangeSet(Kcluster)\n",
        "\n",
        "def rule_mu(model,k,j):\n",
        "  return (df[j].min(), df[j].max())\n",
        "\n",
        "model.mu = Var(model.i,model.k, within=Binary)\n",
        "model.U = Var(model.i,model.k, within=Binary)\n",
        "model.y = Var(model.i,model.i,model.k, bounds=(0,1), within=Reals)\n",
        "\n",
        "def rule_initx(model,i,j):\n",
        "  return df.loc[i-1,j]\n",
        "model.x = Param(model.i,model.j, initialize=rule_initx)\n",
        "\n",
        "def rule_c2(model,i):\n",
        "  return sum(model.U[i,k] for k in model.k)==1\n",
        "model.c2 = Constraint(model.i, rule=rule_c2)\n",
        "\n",
        "def rule_c3(model,k):\n",
        "  return sum(model.mu[i,k] for i in model.i)==1\n",
        "model.c3 = Constraint(model.k, rule=rule_c3)\n",
        "\n",
        "def rule_c4(model,i,k):\n",
        "  return model.mu[i,k] <= model.U[i,k]\n",
        "model.c4 = Constraint(model.i, model.k, rule=rule_c4)\n",
        "\n",
        "\n",
        "def rule_c5A(model,i1,i2,k):\n",
        "  if i2!=i1:\n",
        "    return model.y[i1,i2,k] <= model.mu[i1,k]\n",
        "  else:\n",
        "    return Constraint.Skip\n",
        "model.c5A = Constraint(model.i,model.i, model.k, rule=rule_c5A)\n",
        "\n",
        "def rule_c5B(model,i1,i2,k):\n",
        "  if i2!=i1:\n",
        "    return model.y[i1,i2,k] <= model.U[i2,k]\n",
        "  else:\n",
        "    return Constraint.Skip\n",
        "model.c5B = Constraint(model.i,model.i, model.k, rule=rule_c5B)\n",
        "\n",
        "def rule_c5C(model,i1,i2,k):\n",
        "  if i2!=i1:\n",
        "    return model.y[i1,i2,k] >= model.mu[i1,k]+ model.U[i2,k]-1\n",
        "  else:\n",
        "    return Constraint.Skip\n",
        "model.c5C = Constraint(model.i,model.i, model.k, rule=rule_c5C)\n",
        "\n",
        "\n",
        "def rule_c5D(model,i1,i2,k):\n",
        "  if i2!=i1:\n",
        "    return model.y[i1,i2,k] <= model.U[i1,k]\n",
        "  else:\n",
        "    return Constraint.Skip\n",
        "model.c5D = Constraint(model.i,model.i, model.k, rule=rule_c5D)\n",
        "\n",
        "\n",
        "def rule_c6(model,k1,k2):\n",
        "  if k1<k2:\n",
        "    return sum(model.x[i,'x']*model.mu[i,k1] for i in model.i) <= 0.1+ sum(model.x[i,'x']*model.mu[i,k2] for i in model.i)\n",
        "  else:\n",
        "    return Constraint.Skip\n",
        "model.c6 = Constraint(model.k,model.k, rule=rule_c6)\n",
        "\n",
        "def rule_of(model):\n",
        "  return sum( model.y[i1,i2,k]*(model.x[i1,j]-model.x[i2,j])**2 for j in model.j for i1 in model.i for i2 in model.i for k in model.k)\n",
        "model.obj = Objective(rule=rule_of, sense=minimize)\n",
        "\n",
        "\n",
        "instance = model.create_instance()\n",
        "st= time.time()\n",
        "results = opt.solve(instance, solver = \"cplex\", options={\n",
        "    'timelimit': 600,\n",
        "    'mipgap': 0.1\n",
        "})\n",
        "print(time.time()-st)"
      ]
    },
    {
      "cell_type": "code",
      "execution_count": null,
      "metadata": {
        "id": "jsZoDZ5Dbsc1",
        "colab": {
          "base_uri": "https://localhost:8080/",
          "height": 963
        },
        "outputId": "b92fbdd9-d720-4fac-c987-2fbd867c0f56"
      },
      "outputs": [
        {
          "output_type": "stream",
          "name": "stdout",
          "text": [
            "TAG300 1 1\n",
            "TAG300 2 1\n",
            "TAG300 3 3\n",
            "TAG300 4 3\n",
            "TAG300 5 1\n",
            "TAG300 6 3\n",
            "TAG300 7 2\n",
            "TAG300 8 2\n",
            "TAG300 9 1\n",
            "TAG300 10 2\n",
            "TAG300 11 3\n",
            "TAG300 12 2\n",
            "TAG300 13 3\n",
            "TAG300 14 2\n",
            "TAG300 15 3\n",
            "TAG300 16 1\n",
            "TAG300 17 2\n",
            "TAG300 18 1\n",
            "TAG300 19 2\n",
            "TAG300 20 1\n",
            "TAG300 21 2\n",
            "TAG300 22 2\n",
            "TAG300 23 3\n",
            "TAG300 24 2\n",
            "TAG300 25 3\n",
            "TAG300 26 3\n",
            "TAG300 27 2\n",
            "TAG300 28 2\n",
            "TAG300 29 3\n",
            "TAG300 30 1\n",
            "1 0.5395019652374079 0.4518814147120972\n",
            "2 0.6974232674574891 2.1927449116706126\n",
            "3 2.6647145217672126 0.5953532423897839\n"
          ]
        },
        {
          "output_type": "display_data",
          "data": {
            "text/plain": [
              "<Figure size 600x400 with 1 Axes>"
            ],
            "image/png": "[encoded data removed]"
          },
          "metadata": {}
        }
      ],
      "source": [
        "plt.figure(figsize=(6,4))\n",
        "\n",
        "all= [int(sum([value(k*instance.U[i,k]) for k in instance.k])) for i in instance.i]\n",
        "for i in instance.i:\n",
        "  print(\"TAG300\", i, int(sum([value(k*instance.U[i,k]) for k in instance.k] ) ) )\n",
        "\n",
        "plt.scatter(df[\"x\"],df[\"y\"], c=all, s=  20)\n",
        "\n",
        "for k in instance.k:\n",
        "  node = int(sum([value(i*instance.mu[i,k]) for i in instance.i]))\n",
        "  xk,yk = df.loc[node-1,'x'], df.loc[node-1,'y']\n",
        "  plt.scatter(xk,yk, s=  300 , alpha =0.4, zorder=-2)\n",
        "  print(k, xk,yk)\n",
        "plt.xlabel(\"x1\", fontweight='bold')\n",
        "plt.ylabel(\"x2\", fontweight='bold')\n",
        "plt.xticks(fontweight='bold')\n",
        "plt.yticks(fontweight='bold')\n",
        "plt.grid()\n",
        "plt.show()"
      ]
    }
  ],
  "metadata": {
    "colab": {
      "provenance": [],
      "include_colab_link": true
    },
    "kernelspec": {
      "display_name": "Python 3",
      "language": "python",
      "name": "python3"
    },
    "language_info": {
      "codemirror_mode": {
        "name": "ipython",
        "version": 3
      },
      "file_extension": ".py",
      "mimetype": "text/x-python",
      "name": "python",
      "nbconvert_exporter": "python",
      "pygments_lexer": "ipython3",
      "version": "3.8.3"
    }
  },
  "nbformat": 4,
  "nbformat_minor": 0
}