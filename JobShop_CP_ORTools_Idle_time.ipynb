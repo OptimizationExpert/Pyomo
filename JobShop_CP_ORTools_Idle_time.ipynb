{
  "cells": [
    {
      "cell_type": "markdown",
      "metadata": {
        "id": "view-in-github",
        "colab_type": "text"
      },
      "source": [
        "<a href=\"https://colab.research.google.com/github/OptimizationExpert/Pyomo/blob/main/JobShop_CP_ORTools_Idle_time.ipynb\" target=\"_parent\"><img src=\"https://colab.research.google.com/assets/colab-badge.svg\" alt=\"Open In Colab\"/></a>"
      ]
    },
    {
      "cell_type": "markdown",
      "metadata": {
        "id": "VvJL0bOSIm84"
      },
      "source": [
        "Developed by Alireza Soroudi\n",
        "alireza.soroudi@gmail.com\n",
        "\n",
        "Linkedin News letter : https://www.linkedin.com/newsletters/optimization-in-open-source-6874020019009859585/\n",
        "\n",
        "Git hub: https://github.com/OptimizationExpert/Pyomo\n",
        "\n"
      ]
    },
    {
      "cell_type": "code",
      "execution_count": 150,
      "metadata": {
        "colab": {
          "base_uri": "https://localhost:8080/"
        },
        "id": "w_3yuwV8XtMF",
        "outputId": "a063660e-1f82-4f8d-ae5d-14aa3938297e"
      },
      "outputs": [
        {
          "output_type": "stream",
          "name": "stdout",
          "text": [
            "Requirement already satisfied: ortools in /usr/local/lib/python3.10/dist-packages (9.10.4067)\n",
            "Requirement already satisfied: absl-py>=2.0.0 in /usr/local/lib/python3.10/dist-packages (from ortools) (2.1.0)\n",
            "Requirement already satisfied: numpy>=1.13.3 in /usr/local/lib/python3.10/dist-packages (from ortools) (1.26.4)\n",
            "Requirement already satisfied: pandas>=2.0.0 in /usr/local/lib/python3.10/dist-packages (from ortools) (2.1.4)\n",
            "Requirement already satisfied: protobuf>=5.26.1 in /usr/local/lib/python3.10/dist-packages (from ortools) (5.27.3)\n",
            "Requirement already satisfied: immutabledict>=3.0.0 in /usr/local/lib/python3.10/dist-packages (from ortools) (4.2.0)\n",
            "Requirement already satisfied: python-dateutil>=2.8.2 in /usr/local/lib/python3.10/dist-packages (from pandas>=2.0.0->ortools) (2.8.2)\n",
            "Requirement already satisfied: pytz>=2020.1 in /usr/local/lib/python3.10/dist-packages (from pandas>=2.0.0->ortools) (2024.1)\n",
            "Requirement already satisfied: tzdata>=2022.1 in /usr/local/lib/python3.10/dist-packages (from pandas>=2.0.0->ortools) (2024.1)\n",
            "Requirement already satisfied: six>=1.5 in /usr/local/lib/python3.10/dist-packages (from python-dateutil>=2.8.2->pandas>=2.0.0->ortools) (1.16.0)\n"
          ]
        }
      ],
      "source": [
        "!pip install ortools\n",
        "from ortools.sat.python import cp_model # CP-SAT solver\n",
        "import numpy as np\n",
        "from random import randint\n",
        "import random\n",
        "from math import ceil\n",
        "import pandas as pd\n",
        "import matplotlib.pyplot as plt # Data visualization\n",
        "from matplotlib.patches import Rectangle"
      ]
    },
    {
      "cell_type": "code",
      "source": [
        "data = [\n",
        "    [1, 3, 6, 7, 3, 6],\n",
        "    [8, 5, 10, 10, 10, 4],\n",
        "    [5, 4, 8, 9, 1, 7],\n",
        "    [5, 5, 5, 3, 8, 9],\n",
        "    [9, 3, 5, 4, 3, 1],\n",
        "    [3, 3, 9, 10, 4, 1]\n",
        "]\n",
        "\n",
        "# Define the row and column labels\n",
        "rows = [f'R{i+1}' for i in range(len(data))]\n",
        "columns = [f'J{j+1}' for j in range(len(data[0]))]\n",
        "\n",
        "# Create the DataFrame\n",
        "dfpr = pd.DataFrame(data, index=rows, columns=columns)\n",
        "dfpr\n",
        "\n",
        "data = [\n",
        "    [3, 1, 2, 4, 6, 5],\n",
        "    [2, 3, 5, 6, 1, 4],\n",
        "    [3, 4, 6, 1, 2, 5],\n",
        "    [2, 1, 3, 4, 5, 6],\n",
        "    [3, 2, 5, 6, 1, 4],\n",
        "    [2, 4, 6, 1, 5, 3]\n",
        "]\n",
        "order = {f\"R{r}\":[f'J{j}' for j in data[r-1]] for r in range(1,7)}\n",
        "order"
      ],
      "metadata": {
        "colab": {
          "base_uri": "https://localhost:8080/"
        },
        "id": "jwwmYqvq8jK6",
        "outputId": "88dc1295-8dcb-45e2-e231-933253297737"
      },
      "execution_count": 151,
      "outputs": [
        {
          "output_type": "execute_result",
          "data": {
            "text/plain": [
              "{'R1': ['J3', 'J1', 'J2', 'J4', 'J6', 'J5'],\n",
              " 'R2': ['J2', 'J3', 'J5', 'J6', 'J1', 'J4'],\n",
              " 'R3': ['J3', 'J4', 'J6', 'J1', 'J2', 'J5'],\n",
              " 'R4': ['J2', 'J1', 'J3', 'J4', 'J5', 'J6'],\n",
              " 'R5': ['J3', 'J2', 'J5', 'J6', 'J1', 'J4'],\n",
              " 'R6': ['J2', 'J4', 'J6', 'J1', 'J5', 'J3']}"
            ]
          },
          "metadata": {},
          "execution_count": 151
        }
      ]
    },
    {
      "cell_type": "code",
      "source": [
        "jobs = [j for j in dfpr.columns]\n",
        "machines = [r for r in dfpr.index]\n",
        "jobs, machines"
      ],
      "metadata": {
        "colab": {
          "base_uri": "https://localhost:8080/"
        },
        "id": "qTaDitfE9Nnn",
        "outputId": "72210818-8c53-434b-8451-74279bbc77fa"
      },
      "execution_count": 152,
      "outputs": [
        {
          "output_type": "execute_result",
          "data": {
            "text/plain": [
              "(['J1', 'J2', 'J3', 'J4', 'J5', 'J6'], ['R1', 'R2', 'R3', 'R4', 'R5', 'R6'])"
            ]
          },
          "metadata": {},
          "execution_count": 152
        }
      ]
    },
    {
      "cell_type": "code",
      "execution_count": 153,
      "metadata": {
        "id": "AxZSoOv2-NEu"
      },
      "outputs": [],
      "source": [
        "KOLORS = [\"#1f77b4\", \"#ff7f0e\", \"#2ca02c\", \"#d62728\", \"#9467bd\",\n",
        "            \"#8c564b\", \"#e377c2\", \"#7f7f7f\", \"#bcbd22\", \"#17becf\",\n",
        "            \"#aec7e8\", \"#ffbb78\", \"#98df8a\", \"#ff9896\", \"#c5b0d5\",\n",
        "            \"#c49c94\", \"#f7b6d2\", \"#c7c7c7\", \"#dbdb8d\", \"#9edae5\",\n",
        "            \"#8c6d31\", \"#9c9ede\", \"#637939\", \"#e7cb94\", \"#b5cf6b\",\n",
        "            \"#cedb9c\", \"#c7c7c7\", \"#bd9e39\", \"#e7969c\", \"#7b4173\"]"
      ]
    },
    {
      "cell_type": "code",
      "execution_count": 153,
      "metadata": {
        "id": "4xH4VfXnamQQ"
      },
      "outputs": [],
      "source": []
    },
    {
      "cell_type": "markdown",
      "metadata": {
        "id": "RApX4xchjMHD"
      },
      "source": []
    },
    {
      "cell_type": "code",
      "execution_count": 154,
      "metadata": {
        "id": "yU46bQJO2WvI"
      },
      "outputs": [],
      "source": [
        "def plot_results():\n",
        "  m = (1+np.sqrt(5))*0.5\n",
        "  plt.figure(figsize=(4*m,4))\n",
        "  results_day = {}\n",
        "  all = []\n",
        "  allocated =[]\n",
        "  for m in machines:\n",
        "    y = machines.index(m) +1\n",
        "    #\n",
        "    for j in jobs:\n",
        "      x1,x2 = solver.Value(st[j,m]),solver.Value(st[j,m]) +  int(dfpr.loc[m,j])\n",
        "      jn= jobs.index(j)\n",
        "      plt.gca().add_patch(Rectangle((x1,y),  int(dfpr.loc[m,j]),0.4,linewidth=1,edgecolor='k',facecolor=KOLORS[jn], alpha =0.6))\n",
        "\n",
        "  #plt.yticks(range(len(actors)), actors, fontweight='bold')\n",
        "  #plt.xticks(all,allocated)\n",
        "  plt.xlim(0,0*solver.value(span)+110)\n",
        "  plt.ylim(0.2,7)\n",
        "  plt.yticks(range(1,1+len(machines)), machines)\n",
        "  plt.grid()\n",
        "  plt.tight_layout()\n",
        "  plt.xlabel(\"Time\")\n",
        "  plt.ylabel(\"Machine\")\n",
        "  plt.show()\n"
      ]
    },
    {
      "cell_type": "code",
      "execution_count": 155,
      "metadata": {
        "id": "yyF-IzKMcyrj"
      },
      "outputs": [],
      "source": [
        "def opt_schd(w1,w2):\n",
        "\n",
        "  model = cp_model.CpModel()\n",
        "  solver = cp_model.CpSolver()\n",
        "\n",
        "  st = {(j,m):model.NewIntVar(0,100, f\"scen_day_{j}_{m}\")  for j in jobs for m in machines}\n",
        "  uinterval = {(j,m):model.NewFixedSizeIntervalVar(v_st,int(dfpr.loc[m,j]), f\"interval_{j}_{m}\") for (j,m),v_st in st.items()}\n",
        "  span = model.NewIntVar(0,100, 'span')\n",
        "  min_m = {m:model.NewIntVar(0,100, f\"minstart_{m}\") for m in machines}\n",
        "  max_m = {m:model.NewIntVar(0,100, f\"maxend_{m}\") for m in machines}\n",
        "  job_order = {(j1,j2):model.NewBoolVar(f\"scen_day_{j1}_{j2}\")  for j1 in jobs for j2 in jobs if j1!=j2}\n",
        "\n",
        "  for (j1,j2),v in job_order.items():\n",
        "    if j1>j2:\n",
        "      model.AddExactlyOne([v,job_order[j2,j1]])\n",
        "  for m in machines:\n",
        "    expressions_st = [st[j,m] for j in jobs]\n",
        "    expressions_fn = [st[j,m]+int(dfpr.loc[m,j]) for j in jobs]\n",
        "    model.AddMinEquality(min_m[m],expressions_st)\n",
        "    model.AddMaxEquality(max_m[m],expressions_fn)\n",
        "    expressions = [uinterval[j,m] for j in jobs ]\n",
        "    model.AddNoOverlap(expressions)\n",
        "    for (j1,j2),v in job_order.items():\n",
        "      model.Add(st[j1,m] + dfpr.loc[m,j1]<= st[j2,m]).OnlyEnforceIf(job_order[j1,j2])\n",
        "\n",
        "  for m_index in range(1,len(machines)):\n",
        "    m1 = machines[m_index-1]\n",
        "    m2 = machines[m_index]\n",
        "    for j in jobs:\n",
        "      model.Add(st[j,m1] + dfpr.loc[m1,j] <= st[j,m2])\n",
        "\n",
        "  for m in machines:\n",
        "    expressions = [uinterval[j,m] for j in jobs ]\n",
        "    model.AddNoOverlap(expressions)\n",
        "    for (j1,j2),v in job_order.items():\n",
        "      model.Add(st[j1,m] + dfpr.loc[m,j1]<= st[j2,m]).OnlyEnforceIf(job_order[j1,j2])\n",
        "\n",
        "  for (j,m),v in st.items():\n",
        "    model.Add(v+dfpr.loc[m,j] <=span)\n",
        "\n",
        "\n",
        "  #model.Minimize(span)\n",
        "\n",
        "  expr_obj = [max_m[m]-min_m[m] for m in machines]\n",
        "  model.Minimize(w1*span + w2*sum(expr_obj))\n",
        "\n",
        "\n",
        "  solver.parameters.max_time_in_seconds = 60\n",
        "  status = solver.Solve(model)\n",
        "\n",
        "  if status == cp_model.OPTIMAL:\n",
        "    print(\"OPTIMAL\")\n",
        "  elif status == cp_model.FEASIBLE:\n",
        "    print(\"FEASIBLE\")\n",
        "  elif status == cp_model.INFEASIBLE:\n",
        "    print(\"INFEASIBLE\")\n",
        "    print(\"FEASIBLE\")\n",
        "  elif status == cp_model.UNKNOWN:\n",
        "    print(\"UNKNOWN\")\n",
        "  print(solver.ObjectiveValue())\n",
        "  print(solver.value(span), solver.value(sum(expr_obj)) )\n",
        "  return solver, st\n"
      ]
    },
    {
      "cell_type": "code",
      "source": [
        "machines[:-1]"
      ],
      "metadata": {
        "colab": {
          "base_uri": "https://localhost:8080/"
        },
        "id": "BslIMsz3LTmp",
        "outputId": "3460db4e-3a8d-4246-c438-02ac58e48697"
      },
      "execution_count": 156,
      "outputs": [
        {
          "output_type": "execute_result",
          "data": {
            "text/plain": [
              "['R1', 'R2', 'R3', 'R4', 'R5']"
            ]
          },
          "metadata": {},
          "execution_count": 156
        }
      ]
    },
    {
      "cell_type": "code",
      "source": [
        "solver, st = opt_schd(1,0)\n",
        "plot_results()\n",
        "#for m in machines:\n",
        "#  assigned = [dfpr.loc[m,j] for j in jobs]\n",
        "#  print(m,sum(assigned) , solver.Value(max_m[m]), solver.Value(min_m[m]))"
      ],
      "metadata": {
        "colab": {
          "base_uri": "https://localhost:8080/",
          "height": 478
        },
        "id": "NfTrbCHyHyvM",
        "outputId": "d3b67d48-5aed-4b62-f258-b570b39c57fb"
      },
      "execution_count": 157,
      "outputs": [
        {
          "output_type": "stream",
          "name": "stdout",
          "text": [
            "OPTIMAL\n",
            "66.0\n",
            "66 253\n"
          ]
        },
        {
          "output_type": "display_data",
          "data": {
            "text/plain": [
              "<Figure size 647.214x400 with 1 Axes>"
            ],
            "image/png": "[encoded data removed]"
          },
          "metadata": {}
        }
      ]
    },
    {
      "cell_type": "code",
      "source": [
        "solver, st = opt_schd(1,100)\n",
        "plot_results()"
      ],
      "metadata": {
        "colab": {
          "base_uri": "https://localhost:8080/",
          "height": 478
        },
        "id": "aqjjBIhOQfb7",
        "outputId": "293858ab-0ad3-4008-b0f5-79b2060732e0"
      },
      "execution_count": 158,
      "outputs": [
        {
          "output_type": "stream",
          "name": "stdout",
          "text": [
            "FEASIBLE\n",
            "19775.0\n",
            "75 197\n"
          ]
        },
        {
          "output_type": "display_data",
          "data": {
            "text/plain": [
              "<Figure size 647.214x400 with 1 Axes>"
            ],
            "image/png": "[encoded data removed]"
          },
          "metadata": {}
        }
      ]
    },
    {
      "cell_type": "code",
      "source": [],
      "metadata": {
        "id": "CAptWaLqnk9z"
      },
      "execution_count": 158,
      "outputs": []
    },
    {
      "cell_type": "markdown",
      "metadata": {
        "id": "ggDHmEaNbuH6"
      },
      "source": [
        "## Plot function"
      ]
    }
  ],
  "metadata": {
    "colab": {
      "provenance": [],
      "include_colab_link": true
    },
    "kernelspec": {
      "display_name": "Python 3",
      "name": "python3"
    }
  },
  "nbformat": 4,
  "nbformat_minor": 0
}