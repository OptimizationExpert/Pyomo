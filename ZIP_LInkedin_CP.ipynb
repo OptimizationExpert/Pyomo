{
  "nbformat": 4,
  "nbformat_minor": 0,
  "metadata": {
    "colab": {
      "provenance": [],
      "include_colab_link": true
    },
    "kernelspec": {
      "name": "python3",
      "display_name": "Python 3"
    }
  },
  "cells": [
    {
      "cell_type": "markdown",
      "metadata": {
        "id": "view-in-github",
        "colab_type": "text"
      },
      "source": [
        "<a href=\"https://colab.research.google.com/github/OptimizationExpert/Pyomo/blob/main/ZIP_LInkedin_CP.ipynb\" target=\"_parent\"><img src=\"https://colab.research.google.com/assets/colab-badge.svg\" alt=\"Open In Colab\"/></a>"
      ]
    },
    {
      "cell_type": "code",
      "metadata": {
        "id": "w_3yuwV8XtMF",
        "outputId": "82a27b5b-4610-44ad-ab09-b8ad2036b200",
        "colab": {
          "base_uri": "https://localhost:8080/"
        }
      },
      "source": [
        "!pip install ortools\n",
        "from ortools.sat.python import cp_model # CP-SAT solver\n",
        "import numpy as np\n",
        "from random import randint\n",
        "import random\n",
        "from math import ceil, floor\n",
        "import pandas as pd\n",
        "import matplotlib.pyplot as plt # Data visualization\n",
        "#plt.rcParams[\"figure.figsize\"] = (15,10)"
      ],
      "execution_count": 1,
      "outputs": [
        {
          "output_type": "stream",
          "name": "stdout",
          "text": [
            "Collecting ortools\n",
            "  Downloading ortools-9.12.4544-cp311-cp311-manylinux_2_27_x86_64.manylinux_2_28_x86_64.whl.metadata (3.3 kB)\n",
            "Collecting absl-py>=2.0.0 (from ortools)\n",
            "  Downloading absl_py-2.2.0-py3-none-any.whl.metadata (2.4 kB)\n",
            "Requirement already satisfied: numpy>=1.13.3 in /usr/local/lib/python3.11/dist-packages (from ortools) (2.0.2)\n",
            "Requirement already satisfied: pandas>=2.0.0 in /usr/local/lib/python3.11/dist-packages (from ortools) (2.2.2)\n",
            "Requirement already satisfied: protobuf<5.30,>=5.29.3 in /usr/local/lib/python3.11/dist-packages (from ortools) (5.29.3)\n",
            "Requirement already satisfied: immutabledict>=3.0.0 in /usr/local/lib/python3.11/dist-packages (from ortools) (4.2.1)\n",
            "Requirement already satisfied: python-dateutil>=2.8.2 in /usr/local/lib/python3.11/dist-packages (from pandas>=2.0.0->ortools) (2.8.2)\n",
            "Requirement already satisfied: pytz>=2020.1 in /usr/local/lib/python3.11/dist-packages (from pandas>=2.0.0->ortools) (2025.1)\n",
            "Requirement already satisfied: tzdata>=2022.7 in /usr/local/lib/python3.11/dist-packages (from pandas>=2.0.0->ortools) (2025.1)\n",
            "Requirement already satisfied: six>=1.5 in /usr/local/lib/python3.11/dist-packages (from python-dateutil>=2.8.2->pandas>=2.0.0->ortools) (1.17.0)\n",
            "Downloading ortools-9.12.4544-cp311-cp311-manylinux_2_27_x86_64.manylinux_2_28_x86_64.whl (24.9 MB)\n",
            "\u001b[2K   \u001b[90m━━━━━━━━━━━━━━━━━━━━━━━━━━━━━━━━━━━━━━━━\u001b[0m \u001b[32m24.9/24.9 MB\u001b[0m \u001b[31m32.4 MB/s\u001b[0m eta \u001b[36m0:00:00\u001b[0m\n",
            "\u001b[?25hDownloading absl_py-2.2.0-py3-none-any.whl (276 kB)\n",
            "\u001b[2K   \u001b[90m━━━━━━━━━━━━━━━━━━━━━━━━━━━━━━━━━━━━━━━━\u001b[0m \u001b[32m277.0/277.0 kB\u001b[0m \u001b[31m8.8 MB/s\u001b[0m eta \u001b[36m0:00:00\u001b[0m\n",
            "\u001b[?25hInstalling collected packages: absl-py, ortools\n",
            "  Attempting uninstall: absl-py\n",
            "    Found existing installation: absl-py 1.4.0\n",
            "    Uninstalling absl-py-1.4.0:\n",
            "      Successfully uninstalled absl-py-1.4.0\n",
            "Successfully installed absl-py-2.2.0 ortools-9.12.4544\n"
          ]
        }
      ]
    },
    {
      "cell_type": "code",
      "source": [],
      "metadata": {
        "id": "CFwTJ91NUzn9"
      },
      "execution_count": 1,
      "outputs": []
    },
    {
      "cell_type": "code",
      "source": [
        "from os import stat\n",
        "# 57 69 490\n",
        "for trial in range(603,1000):\n",
        "  random.seed(trial)\n",
        "  counter = 0\n",
        "  dic = {}\n",
        "  for i in range(6):\n",
        "    for j in range(6):\n",
        "      dic[counter]=(i,j,0)\n",
        "      counter +=1\n",
        "\n",
        "  df = pd.DataFrame()\n",
        "  N = 36\n",
        "\n",
        "  nodes = [n for n in range(N)]\n",
        "  df['X'] = [dic[n][0] for n in nodes]\n",
        "  df['Y'] = [dic[n][1] for n in nodes]\n",
        "  df['V'] = [dic[n][2] for n in nodes]\n",
        "\n",
        "  selected = random.sample(nodes,8)\n",
        "\n",
        "  for i in range(len(selected)):\n",
        "    df.loc[selected[i],'V'] = i+1\n",
        "\n",
        "  def dist(i,j,df):\n",
        "    x1,y1 = df.loc[i,'X'],df.loc[i,'Y']\n",
        "    x2,y2 = df.loc[j,'X'],df.loc[j,'Y']\n",
        "    return int(ceil(np.sqrt( (x1-x2)**2 +(y1-y2)**2)))\n",
        "\n",
        "\n",
        "  \"\"\"\n",
        "  plt.figure(figsize=(6,6))\n",
        "  plt.scatter(df['X'],df['Y'],s=20)\n",
        "  for n in nodes:\n",
        "    x1,y1 = df.loc[n,'X'],df.loc[n,'Y']\n",
        "    plt.text(x1,y1, s=str(n))\n",
        "    if df.loc[n,'V']>0:\n",
        "      plt.text(x1,y1-0.2, s=str(df.loc[n,'V']), c= 'b')\n",
        "  plt.show()\n",
        "  \"\"\"\n",
        "\n",
        "\n",
        "\n",
        "  model = cp_model.CpModel()\n",
        "  solver = cp_model.CpSolver()\n",
        "  U = {(i,j):model.NewBoolVar(f\"connection_{i}_{j}\")  for i in nodes for j in nodes if dist(i,j,df)==1}\n",
        "  Visit = {i:model.NewIntVar(0,len(nodes), f\"visit_{i}\")  for i in nodes}\n",
        "  arcs = [(i,j,v) for (i,j),v in U.items() ]\n",
        "  max_inx, min_idx = selected[-1], selected[0]\n",
        "  arcs += [(max_inx, min_idx,True)]\n",
        "  model.AddCircuit(arcs)\n",
        "\n",
        "  for (i,j),v in U.items():\n",
        "    if j!= max_inx:\n",
        "      model.Add(Visit[i]<Visit[j]).OnlyEnforceIf(v)\n",
        "  for i in nodes:\n",
        "    for j in nodes:\n",
        "        if 0 < df.loc[i,'V'] < df.loc[j,'V']:\n",
        "          model.Add(Visit[i]<Visit[j])\n",
        "  expressions = [v*dist(i,j,df) for (i,j),v in U.items() ]\n",
        "  model.Minimize(sum(expressions))\n",
        "  status = solver.Solve(model)\n",
        "  solver.status_name(status)\n",
        "  if status == cp_model.OPTIMAL:\n",
        "    print(trial, solver.ObjectiveValue())\n",
        "    print(selected)\n",
        "    break"
      ],
      "metadata": {
        "colab": {
          "base_uri": "https://localhost:8080/"
        },
        "id": "yU46bQJO2WvI",
        "outputId": "629d4e5d-a042-48c7-8160-125709a7972f"
      },
      "execution_count": 2,
      "outputs": [
        {
          "output_type": "stream",
          "name": "stdout",
          "text": [
            "648 35.0\n",
            "[11, 20, 14, 7, 26, 28, 22, 10]\n"
          ]
        }
      ]
    },
    {
      "cell_type": "code",
      "metadata": {
        "id": "yyF-IzKMcyrj",
        "colab": {
          "base_uri": "https://localhost:8080/"
        },
        "outputId": "4c19aad5-4d38-458e-88cd-3a838ddc35e5"
      },
      "source": [
        "print(status)"
      ],
      "execution_count": 3,
      "outputs": [
        {
          "output_type": "stream",
          "name": "stdout",
          "text": [
            "4\n"
          ]
        }
      ]
    },
    {
      "cell_type": "code",
      "source": [
        "plt.figure(figsize=(6,6))\n",
        "\n",
        "plt.scatter(df['X'],df['Y'],s=20)\n",
        "for n in nodes:\n",
        "  x1,y1 = df.loc[n,'X'],df.loc[n,'Y']\n",
        "  #plt.text(x1,y1-0.2, s=str(n), alpha= 0.2)\n",
        "  if df.loc[n,'V']>0:\n",
        "    plt.text(x1,y1-0.2, s=str(df.loc[n,'V']), c= 'b', alpha= 1)\n",
        "    plt.scatter(x1,y1, s=200, c= 'b', alpha= 0.2)\n",
        "\n",
        "\n",
        "\n",
        "for (i,j),v in U.items():\n",
        "  if solver.Value(v)>0:\n",
        "    x1,y1 = df.loc[i,'X'],df.loc[i,'Y']\n",
        "    x2,y2 = df.loc[j,'X'],df.loc[j,'Y']\n",
        "    plt.plot([x1,x2],[y1,y2], lw= 1)\n",
        "    #plt.text(x1,y1, s= str(solver.value(Visit[i])))\n",
        "plt.xticks()\n",
        "plt.yticks()\n",
        "\n",
        "plt.show()"
      ],
      "metadata": {
        "colab": {
          "base_uri": "https://localhost:8080/",
          "height": 522
        },
        "id": "bOa2iica6mbn",
        "outputId": "7602c81e-6e37-4ee2-c941-c108ae9b237d"
      },
      "execution_count": 4,
      "outputs": [
        {
          "output_type": "display_data",
          "data": {
            "text/plain": [
              "<Figure size 600x600 with 1 Axes>"
            ],
            "image/png": "[encoded data removed]"
          },
          "metadata": {}
        }
      ]
    },
    {
      "cell_type": "code",
      "source": [],
      "metadata": {
        "id": "Frv3UCMgLWPQ"
      },
      "execution_count": 4,
      "outputs": []
    }
  ]
}