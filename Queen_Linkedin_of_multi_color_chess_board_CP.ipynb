{
  "cells": [
    {
      "cell_type": "markdown",
      "metadata": {
        "id": "view-in-github",
        "colab_type": "text"
      },
      "source": [
        "<a href=\"https://colab.research.google.com/github/OptimizationExpert/Pyomo/blob/main/Queen_Linkedin_of_multi_color_chess_board_CP.ipynb\" target=\"_parent\"><img src=\"https://colab.research.google.com/assets/colab-badge.svg\" alt=\"Open In Colab\"/></a>"
      ]
    },
    {
      "cell_type": "markdown",
      "metadata": {
        "id": "uAFN_QYBnmvs"
      },
      "source": [
        "Developed by Alireza Soroudi\n",
        "alireza.soroudi@gmail.com\n",
        "\n",
        "Linkedin News letter : https://www.linkedin.com/newsletters/optimization-in-open-source-6874020019009859585/\n",
        "\n",
        "Git hub: https://github.com/OptimizationExpert/Pyomo"
      ]
    },
    {
      "cell_type": "code",
      "execution_count": 6,
      "metadata": {
        "colab": {
          "base_uri": "https://localhost:8080/"
        },
        "id": "w_3yuwV8XtMF",
        "outputId": "11d91f12-3714-4abd-808a-fa0fa3035c09"
      },
      "outputs": [
        {
          "output_type": "stream",
          "name": "stdout",
          "text": [
            "Requirement already satisfied: ortools in /usr/local/lib/python3.10/dist-packages (9.10.4067)\n",
            "Requirement already satisfied: absl-py>=2.0.0 in /usr/local/lib/python3.10/dist-packages (from ortools) (2.1.0)\n",
            "Requirement already satisfied: numpy>=1.13.3 in /usr/local/lib/python3.10/dist-packages (from ortools) (1.26.4)\n",
            "Requirement already satisfied: pandas>=2.0.0 in /usr/local/lib/python3.10/dist-packages (from ortools) (2.1.4)\n",
            "Requirement already satisfied: protobuf>=5.26.1 in /usr/local/lib/python3.10/dist-packages (from ortools) (5.28.1)\n",
            "Requirement already satisfied: immutabledict>=3.0.0 in /usr/local/lib/python3.10/dist-packages (from ortools) (4.2.0)\n",
            "Requirement already satisfied: python-dateutil>=2.8.2 in /usr/local/lib/python3.10/dist-packages (from pandas>=2.0.0->ortools) (2.8.2)\n",
            "Requirement already satisfied: pytz>=2020.1 in /usr/local/lib/python3.10/dist-packages (from pandas>=2.0.0->ortools) (2024.2)\n",
            "Requirement already satisfied: tzdata>=2022.1 in /usr/local/lib/python3.10/dist-packages (from pandas>=2.0.0->ortools) (2024.1)\n",
            "Requirement already satisfied: six>=1.5 in /usr/local/lib/python3.10/dist-packages (from python-dateutil>=2.8.2->pandas>=2.0.0->ortools) (1.16.0)\n"
          ]
        }
      ],
      "source": [
        "!pip install ortools\n",
        "from ortools.sat.python import cp_model # CP-SAT solver\n",
        "import numpy as np\n",
        "from random import randint\n",
        "import random\n",
        "from math import ceil\n",
        "import pandas as pd\n",
        "import matplotlib.pyplot as plt # Data visualization\n",
        "import time\n",
        "#plt.rcParams[\"figure.figsize\"] = (15,10)"
      ]
    },
    {
      "cell_type": "code",
      "execution_count": 33,
      "metadata": {
        "id": "CFwTJ91NUzn9",
        "colab": {
          "base_uri": "https://localhost:8080/",
          "height": 447
        },
        "outputId": "262f411c-bf43-4d4a-901a-6b33ca7ded35"
      },
      "outputs": [
        {
          "output_type": "display_data",
          "data": {
            "text/plain": [
              "<Figure size 640x480 with 1 Axes>"
            ],
            "image/png": "[encoded data removed]"
          },
          "metadata": {}
        },
        {
          "output_type": "execute_result",
          "data": {
            "text/plain": [
              "100"
            ]
          },
          "metadata": {},
          "execution_count": 33
        }
      ],
      "source": [
        "dic = {\n",
        "    (1, 1): 4, (1, 2): 4, (1, 3): 4, (1, 4): 4, (1, 5): 4, (1, 6): 4, (1, 7): 4, (1, 8): 4,\n",
        "    (2, 1): 4, (2, 2): 5, (2, 3): 4, (2, 4): 4, (2, 5): 4, (2, 6): 1, (2, 7): 1, (2, 8): 4,\n",
        "    (3, 1): 5, (3, 2): 5, (3, 3): 6, (3, 4): 6, (3, 5): 3, (3, 6): 3, (3, 7): 1, (3, 8): 1,\n",
        "    (4, 1): 5, (4, 2): 5, (4, 3): 5, (4, 4): 6, (4, 5): 3, (4, 6): 1, (4, 7): 1, (4, 8): 1,\n",
        "    (5, 1): 5, (5, 2): 8, (5, 3): 5, (5, 4): 7, (5, 5): 2, (5, 6): 1, (5, 7): 1, (5, 8): 1,\n",
        "    (6, 1): 8, (6, 2): 8, (6, 3): 7, (6, 4): 7, (6, 5): 2, (6, 6): 2, (6, 7): 2, (6, 8): 1,\n",
        "    (7, 1): 8, (7, 2): 8, (7, 3): 8, (7, 4): 8, (7, 5): 8, (7, 6): 8, (7, 7): 2, (7, 8): 1,\n",
        "    (8, 1): 8, (8, 2): 1, (8, 3): 1, (8, 4): 1, (8, 5): 1, (8, 6): 1, (8, 7): 1, (8, 8): 1\n",
        "}\n",
        "\n",
        "dic = {\n",
        "    (0, 0): 0, (0, 1): 0, (0, 2): 0, (0, 3): 0, (0, 4): 0, (0, 5): 0, (0, 6): 0, (0, 7): 0, (0, 8): 0, (0, 9): 0,\n",
        "    (1, 0): 0, (1, 1): 0, (1, 2): 0, (1, 3): 0, (1, 4): 0, (1, 5): 0, (1, 6): 0, (1, 7): 8, (1, 8): 8, (1, 9): 0,\n",
        "    (2, 0): 0, (2, 1): 1, (2, 2): 1, (2, 3): 0, (2, 4): 0, (2, 5): 0, (2, 6): 7, (2, 7): 8, (2, 8): 8, (2, 9): 0,\n",
        "    (3, 0): 0, (3, 1): 1, (3, 2): 1, (3, 3): 0, (3, 4): 0, (3, 5): 7, (3, 6): 7, (3, 7): 7, (3, 8): 0, (3, 9): 0,\n",
        "    (4, 0): 0, (4, 1): 0, (4, 2): 0, (4, 3): 6, (4, 4): 6, (4, 5): 6, (4, 6): 7, (4, 7): 0, (4, 8): 0, (4, 9): 0,\n",
        "    (5, 0): 0, (5, 1): 0, (5, 2): 0, (5, 3): 6, (5, 4): 6, (5, 5): 6, (5, 6): 9, (5, 7): 9, (5, 8): 9, (5, 9): 0,\n",
        "    (6, 0): 0, (6, 1): 0, (6, 2): 2, (6, 3): 6, (6, 4): 6, (6, 5): 6, (6, 6): 9, (6, 7): 9, (6, 8): 9, (6, 9): 0,\n",
        "    (7, 0): 0, (7, 1): 2, (7, 2): 2, (7, 3): 2, (7, 4): 5, (7, 5): 5, (7, 6): 9, (7, 7): 9, (7, 8): 9, (7, 9): 0,\n",
        "    (8, 0): 3, (8, 1): 3, (8, 2): 2, (8, 3): 0, (8, 4): 5, (8, 5): 5, (8, 6): 4, (8, 7): 4, (8, 8): 0, (8, 9): 0,\n",
        "    (9, 0): 3, (9, 1): 3, (9, 2): 0, (9, 3): 0, (9, 4): 0, (9, 5): 0, (9, 6): 0, (9, 7): 0, (9, 8): 0, (9, 9): 0\n",
        "}\n",
        "\n",
        "KOLORs = ['r','k','b','navy','gold','g','grey','brown','grey','orange']\n",
        "info = {}\n",
        "c= 0\n",
        "for (i,j),v in dic.items():\n",
        "  x,y = i,j\n",
        "  plt.scatter(1+y,8-x,s=100, c= KOLORs[v-1])\n",
        "  c+=1\n",
        "  info[c] = (1+y,8-x,v)\n",
        "plt.show()\n",
        "c"
      ]
    },
    {
      "cell_type": "code",
      "execution_count": 34,
      "metadata": {
        "id": "yU46bQJO2WvI",
        "colab": {
          "base_uri": "https://localhost:8080/"
        },
        "outputId": "afc22593-4471-4998-addb-4fd10b0c9e6c"
      },
      "outputs": [
        {
          "output_type": "execute_result",
          "data": {
            "text/plain": [
              "({1, 2, 3, 4, 5, 6, 7, 8, 9, 10},\n",
              " {-1, 0, 1, 2, 3, 4, 5, 6, 7, 8},\n",
              " [-1, 0, 1, 2, 3, 4, 5, 6, 7, 8])"
            ]
          },
          "metadata": {},
          "execution_count": 34
        }
      ],
      "source": [
        "N = len(dic)\n",
        "info_color = {}\n",
        "for c,(x,y,v) in info.items():\n",
        "  info_color[v] = info_color.get(v,[])+[c]\n",
        "X= {x for (x,y,c) in info.values()}\n",
        "Y= {y for (x,y,c) in info.values()}\n",
        "\n",
        "sorted_y = sorted(Y)\n",
        "X,Y,sorted_y"
      ]
    },
    {
      "cell_type": "code",
      "execution_count": 36,
      "metadata": {
        "colab": {
          "base_uri": "https://localhost:8080/"
        },
        "id": "yyF-IzKMcyrj",
        "outputId": "123bc9b1-1d90-4a84-b96e-a3395bcde1fb"
      },
      "outputs": [
        {
          "output_type": "stream",
          "name": "stdout",
          "text": [
            "time = 121.31290030479431\n",
            "status = OPTIMAL\n",
            "Number of solutions found: 1\n",
            "OF =  0.0\n"
          ]
        }
      ],
      "source": [
        "def dist(i,j):\n",
        "  return int((info[i][0]-info[j][0])**2+(info[i][1]-info[j][1])**2)\n",
        "class VarArraySolutionPrinter(cp_model.CpSolverSolutionCallback):\n",
        "    \"\"\"Print intermediate solutions.\"\"\"\n",
        "\n",
        "    def __init__(self, variables):\n",
        "        cp_model.CpSolverSolutionCallback.__init__(self)\n",
        "        self.__variables = variables\n",
        "        self.__solution_count = 0\n",
        "        self.__save_solution = {}\n",
        "\n",
        "\n",
        "\n",
        "    def on_solution_callback(self):\n",
        "        self.__solution_count += 1\n",
        "        #print(self.__solution_count , [self.Value(self.__variables[i]) for i in self.__variables])\n",
        "        self.__save_solution[self.__solution_count] = {i:self.Value(self.__variables[i]) for i in self.__variables}\n",
        "        if self.__solution_count == 7:\n",
        "          self.StopSearch()\n",
        "\n",
        "    def solution_count(self):\n",
        "        return self.__solution_count\n",
        "    def solution_save(self):\n",
        "        return self.__save_solution\n",
        "\n",
        "\n",
        "model = cp_model.CpModel()\n",
        "solver = cp_model.CpSolver()\n",
        "nodes = range(1,N+1)\n",
        "colors = range(8)\n",
        "\n",
        "nmax = int(0.5*N)\n",
        "\n",
        "U = {(i,c):model.NewBoolVar(f\"assign_{i}_{c}\") for i in nodes for c in colors}\n",
        "Z = {(i,j,c):model.NewBoolVar(f\"Z_{i}_{j}_{c}\") for i in nodes for j in nodes for c in colors if dist(i,j) == 1}\n",
        "flow = {(i,j,c):model.NewIntVar(0,nmax, f\"flow_{i}_{j}_{c}\") for i in nodes for j in nodes for c in colors if dist(i,j) == 1}\n",
        "\n",
        "source = {(i,c):model.NewIntVar(0,nmax,f\"source_{i}_{c}\") for c in colors for i in nodes}\n",
        "source_node = {(i,c):model.NewBoolVar(f\"sourcenode_{i}_{c}\") for c in colors for i in nodes}\n",
        "\n",
        "\n",
        "for (i,j,c),v in Z.items():\n",
        "  model.Add(v<=U[i,c])\n",
        "  model.Add(v<=U[j,c])\n",
        "  model.Add(flow[i,j,c] <= v*nmax)\n",
        "\n",
        "  link = [Z[i,j,c],Z[j,i,c]]\n",
        "  model.AddAtMostOne(link)\n",
        "\n",
        "\n",
        "\n",
        "for (i,c),v in source.items():\n",
        "  model.Add(source_node[i,c] <=U[i,c])\n",
        "  model.Add(v - U[i,c] == cp_model.LinearExpr.Sum([flow[i,j,c]-flow[j,i,c] for j in nodes if (i,j,c) in flow]) )\n",
        "\n",
        "for i in nodes:\n",
        "  expressions = [U[i,c] for c in colors]\n",
        "  model.AddExactlyOne(expressions)\n",
        "\n",
        "for c in colors:\n",
        "  expressions = [U[i,c] for i in nodes]\n",
        "  model.Add(cp_model.LinearExpr.Sum(expressions) >= 2)\n",
        "  expressions_sn = [source_node[i,c] for i in nodes]\n",
        "  model.AddExactlyOne(expressions_sn)\n",
        "\n",
        "\n",
        "for (i,c) in source:\n",
        "  model.Add(source[i,c]==0).OnlyEnforceIf(source_node[i,c].Not())\n",
        "\n",
        "\n",
        "for c1 in colors:\n",
        "  for c2 in colors:\n",
        "    if c1>c2:\n",
        "      expressions_c1 = [U[i,c1] for i in nodes]\n",
        "      expressions_c2 = [U[i,c2] for i in nodes]\n",
        "      model.Add(cp_model.LinearExpr.Sum(expressions_c1) - cp_model.LinearExpr.Sum(expressions_c2) <=  int(0.2*N) )\n",
        "      model.Add(cp_model.LinearExpr.Sum(expressions_c1) - cp_model.LinearExpr.Sum(expressions_c2) >= -int(0.2*N) )\n",
        "\n",
        "\n",
        "minx, maxx = min(X), max(X)\n",
        "miny, maxy = min(Y), max(Y)\n",
        "\n",
        "for c in colors:\n",
        "  expressions_edge = [U[i,c] for i in nodes if info[i][0] in [minx, maxx] or info[i][1] in [miny, maxy] ]\n",
        "  #model.Add(cp_model.LinearExpr.Sum(expressions_edge)>0)\n",
        "\n",
        "for x in X:\n",
        "    expressions_x = [source_node[i,c] for i in nodes for c in colors if info[i][0] == x]\n",
        "    model.AddAtMostOne(expressions_x)\n",
        "\n",
        "for y in Y:\n",
        "    expressions_y = [source_node[i,c] for i in nodes for c in colors if info[i][1] == y]\n",
        "    model.AddAtMostOne(expressions_y)\n",
        "\n",
        "\n",
        "for i in nodes:\n",
        "  part1 = [source_node[i,c] for c in colors]\n",
        "  part2 = [source_node[j,c] for j in nodes for c in colors if dist(i,j) == 1]\n",
        "\n",
        "  expressions = part1 + part2\n",
        "  model.AddAtMostOne(expressions)\n",
        "\n",
        "solver.parameters.enumerate_all_solutions = False\n",
        "solution_printer = VarArraySolutionPrinter(U)\n",
        "\n",
        "expressions_vz = [v for (i,j,c),v in Z.items()]\n",
        "#model.Minimize(sum(expressions_vz))\n",
        "\n",
        "st = time.time()\n",
        "status = solver.Solve(model, solution_printer)\n",
        "\n",
        "et = time.time()\n",
        "print(f\"time = {et-st}\")\n",
        "print(f\"status = {solver.StatusName(status)}\")\n",
        "print(f\"Number of solutions found: {solution_printer.solution_count()}\")\n",
        "print(\"OF = \", solver.ObjectiveValue())"
      ]
    },
    {
      "cell_type": "code",
      "execution_count": 37,
      "metadata": {
        "id": "aw7I7Iy-i4Dc",
        "colab": {
          "base_uri": "https://localhost:8080/",
          "height": 569
        },
        "outputId": "fad59206-52d8-4e33-cff6-9d425dcad4fa"
      },
      "outputs": [
        {
          "output_type": "stream",
          "name": "stdout",
          "text": [
            "4 3 sourcxe\n",
            "23 0 sourcxe\n",
            "48 7 sourcxe\n",
            "60 4 sourcxe\n",
            "61 6 sourcxe\n",
            "75 1 sourcxe\n",
            "89 5 sourcxe\n",
            "92 2 sourcxe\n"
          ]
        },
        {
          "output_type": "display_data",
          "data": {
            "text/plain": [
              "<Figure size 640x480 with 1 Axes>"
            ],
            "image/png": "[encoded data removed]"
          },
          "metadata": {}
        }
      ],
      "source": [
        "for c,(x,y,v) in info.items():\n",
        "  plt.scatter(x,y,s=400, c= 'grey', alpha= 0.6)\n",
        "\n",
        "for i in nodes:\n",
        "  for c in colors:\n",
        "    if solver.Value(U[i,c]):\n",
        "      plt.scatter(info[i][0],info[i][1],s=400, marker='s', c= KOLORs[c])\n",
        "    if solver.Value(source_node[i,c]):\n",
        "      plt.scatter(info[i][0],info[i][1],s=100, marker='o', c= 'w', zorder =2)\n",
        "    if solver.Value(source_node[i,c]):\n",
        "      print(i,c,'sourcxe')\n",
        "\n",
        "plt.show()"
      ]
    },
    {
      "cell_type": "code",
      "execution_count": null,
      "metadata": {
        "id": "o-b7kzmAmVnL"
      },
      "outputs": [],
      "source": [
        "\n"
      ]
    },
    {
      "cell_type": "code",
      "execution_count": null,
      "metadata": {
        "id": "g_Hh-NjFOiLp"
      },
      "outputs": [],
      "source": [
        "\n",
        "\n"
      ]
    },
    {
      "cell_type": "code",
      "execution_count": 38,
      "metadata": {
        "id": "8476QEFTGkXL",
        "colab": {
          "base_uri": "https://localhost:8080/",
          "height": 483
        },
        "outputId": "96749ff5-d8de-4378-e4b3-1402a71dcbad"
      },
      "outputs": [
        {
          "output_type": "display_data",
          "data": {
            "text/plain": [
              "<Figure size 500x500 with 1 Axes>"
            ],
            "image/png": "[encoded data removed]"
          },
          "metadata": {}
        }
      ],
      "source": [
        "for i , dic in solution_printer.solution_save().items():\n",
        "  plt.figure(figsize=(5,5))\n",
        "  for (i,j,c), vz in Z.items():\n",
        "    if solver.Value(vz):\n",
        "      plt.plot([info[i][0],info[j][0]],[info[i][1],info[j][1]],c= KOLORs[c])\n",
        "  plt.tight_layout()\n",
        "  plt.axis('off')\n",
        "  plt.show()\n"
      ]
    },
    {
      "cell_type": "code",
      "execution_count": null,
      "metadata": {
        "id": "0hUYCxmOO0I8"
      },
      "outputs": [],
      "source": [
        "cntu = True\n",
        "counter =0\n",
        "while (cntu and counter< 7):\n",
        "\n",
        "  A= [v.Not() for i,v in U.items() if solver.value(v)==1]\n",
        "  B= [v for i,v in U.items() if solver.value(v)==0]\n",
        "\n",
        "  expressions = A+ B\n",
        "  model.AddAtLeastOne(expressions)\n",
        "  status = solver.Solve(model,solution_printer)\n",
        "  #print(status, solver.StatusName(status), solver.ObjectiveValue())\n",
        "  if status != cp_model.OPTIMAL:\n",
        "    cntu = False\n",
        "  else:\n",
        "    counter+=1\n",
        "    print(counter)\n",
        "    #pass\n",
        "    plt.figure(figsize=(5,5))\n",
        "    for i , v in U.items():\n",
        "      #print(i, dic)\n",
        "      if solver.value(v):\n",
        "        plt.scatter(info[i][0],info[i][1],s=500, marker = 's', c= 'k')\n",
        "      else:\n",
        "        plt.scatter(info[i][0],info[i][1],s=500, marker = 's', c= 'grey', alpha = 0.3)\n",
        "    plt.tight_layout()\n",
        "    plt.axis('off')\n",
        "    plt.show()\n",
        "\n",
        "    #\"\"\"\n",
        "\n"
      ]
    },
    {
      "cell_type": "markdown",
      "metadata": {
        "id": "kgrhPumrnlXZ"
      },
      "source": []
    }
  ],
  "metadata": {
    "colab": {
      "provenance": [],
      "include_colab_link": true
    },
    "kernelspec": {
      "display_name": "Python 3",
      "name": "python3"
    }
  },
  "nbformat": 4,
  "nbformat_minor": 0
}