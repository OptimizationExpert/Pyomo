{
  "nbformat": 4,
  "nbformat_minor": 0,
  "metadata": {
    "colab": {
      "provenance": [],
      "authorship_tag": "ABX9TyO+tTylUzVZe+m1UNY/ancA",
      "include_colab_link": true
    },
    "kernelspec": {
      "name": "python3",
      "display_name": "Python 3"
    },
    "language_info": {
      "name": "python"
    }
  },
  "cells": [
    {
      "cell_type": "markdown",
      "metadata": {
        "id": "view-in-github",
        "colab_type": "text"
      },
      "source": [
        "<a href=\"https://colab.research.google.com/github/OptimizationExpert/Pyomo/blob/main/maze.ipynb\" target=\"_parent\"><img src=\"https://colab.research.google.com/assets/colab-badge.svg\" alt=\"Open In Colab\"/></a>"
      ]
    },
    {
      "cell_type": "code",
      "execution_count": null,
      "metadata": {
        "id": "9VEoReaWXguh"
      },
      "outputs": [],
      "source": [
        "import pandas as pd\n",
        "import numpy as np\n",
        "import matplotlib.pyplot as plt\n"
      ]
    },
    {
      "cell_type": "code",
      "source": [
        "!pip install pyomo\n",
        "from pyomo.environ import *\n",
        "from pyomo import environ as pe\n",
        "import random\n",
        "#!get -N -q \"https://github.com/thomasfork/ipopt_linux/raw/main/ipopt-linux64.zip\"\n",
        "#!unzip -o -q ipopt-linux64\n",
        "#solver= SolverFactory('ipopt', executable='/content/ipopt')\n",
        "import numpy as np\n",
        "\n",
        "import pyomo.environ as pyo\n",
        "import plotly.graph_objects as go\n",
        "import numpy as np\n",
        "import matplotlib.pyplot as plt\n",
        "import pandas as pd\n",
        "#!apt-get install -y -qq coinor-cbc\n",
        "#solver= SolverFactory('cbc', executable='/usr/bin/cbc')\n",
        "!apt-get install -y -qq glpk-utils\n",
        "opt = SolverFactory('glpk', executable='/usr/bin/glpsol')\n",
        "\n",
        "\n",
        "!pip install highspy\n",
        "opt = pe.SolverFactory(\"appsi_highs\")\n"
      ],
      "metadata": {
        "colab": {
          "base_uri": "https://localhost:8080/"
        },
        "id": "OwNVcqUWXx5W",
        "outputId": "ca83ccb8-fb86-40d1-b188-b7930728be69"
      },
      "execution_count": null,
      "outputs": [
        {
          "output_type": "stream",
          "name": "stdout",
          "text": [
            "Requirement already satisfied: pyomo in /usr/local/lib/python3.12/dist-packages (6.9.4)\n",
            "Requirement already satisfied: ply in /usr/local/lib/python3.12/dist-packages (from pyomo) (3.11)\n",
            "Selecting previously unselected package libsuitesparseconfig5:amd64.\n",
            "(Reading database ... 126435 files and directories currently installed.)\n",
            "Preparing to unpack .../libsuitesparseconfig5_1%3a5.10.1+dfsg-4build1_amd64.deb ...\n",
            "Unpacking libsuitesparseconfig5:amd64 (1:5.10.1+dfsg-4build1) ...\n",
            "Selecting previously unselected package libamd2:amd64.\n",
            "Preparing to unpack .../libamd2_1%3a5.10.1+dfsg-4build1_amd64.deb ...\n",
            "Unpacking libamd2:amd64 (1:5.10.1+dfsg-4build1) ...\n",
            "Selecting previously unselected package libcolamd2:amd64.\n",
            "Preparing to unpack .../libcolamd2_1%3a5.10.1+dfsg-4build1_amd64.deb ...\n",
            "Unpacking libcolamd2:amd64 (1:5.10.1+dfsg-4build1) ...\n",
            "Selecting previously unselected package libglpk40:amd64.\n",
            "Preparing to unpack .../libglpk40_5.0-1_amd64.deb ...\n",
            "Unpacking libglpk40:amd64 (5.0-1) ...\n",
            "Selecting previously unselected package glpk-utils.\n",
            "Preparing to unpack .../glpk-utils_5.0-1_amd64.deb ...\n",
            "Unpacking glpk-utils (5.0-1) ...\n",
            "Setting up libsuitesparseconfig5:amd64 (1:5.10.1+dfsg-4build1) ...\n",
            "Setting up libamd2:amd64 (1:5.10.1+dfsg-4build1) ...\n",
            "Setting up libcolamd2:amd64 (1:5.10.1+dfsg-4build1) ...\n",
            "Setting up libglpk40:amd64 (5.0-1) ...\n",
            "Setting up glpk-utils (5.0-1) ...\n",
            "Processing triggers for man-db (2.10.2-1) ...\n",
            "Processing triggers for libc-bin (2.35-0ubuntu3.8) ...\n",
            "/sbin/ldconfig.real: /usr/local/lib/libtcm_debug.so.1 is not a symbolic link\n",
            "\n",
            "/sbin/ldconfig.real: /usr/local/lib/libhwloc.so.15 is not a symbolic link\n",
            "\n",
            "/sbin/ldconfig.real: /usr/local/lib/libtbbmalloc.so.2 is not a symbolic link\n",
            "\n",
            "/sbin/ldconfig.real: /usr/local/lib/libumf.so.0 is not a symbolic link\n",
            "\n",
            "/sbin/ldconfig.real: /usr/local/lib/libtbbbind_2_0.so.3 is not a symbolic link\n",
            "\n",
            "/sbin/ldconfig.real: /usr/local/lib/libtbbbind.so.3 is not a symbolic link\n",
            "\n",
            "/sbin/ldconfig.real: /usr/local/lib/libur_adapter_level_zero.so.0 is not a symbolic link\n",
            "\n",
            "/sbin/ldconfig.real: /usr/local/lib/libtbb.so.12 is not a symbolic link\n",
            "\n",
            "/sbin/ldconfig.real: /usr/local/lib/libur_adapter_opencl.so.0 is not a symbolic link\n",
            "\n",
            "/sbin/ldconfig.real: /usr/local/lib/libtbbbind_2_5.so.3 is not a symbolic link\n",
            "\n",
            "/sbin/ldconfig.real: /usr/local/lib/libtcm.so.1 is not a symbolic link\n",
            "\n",
            "/sbin/ldconfig.real: /usr/local/lib/libtbbmalloc_proxy.so.2 is not a symbolic link\n",
            "\n",
            "/sbin/ldconfig.real: /usr/local/lib/libur_adapter_level_zero_v2.so.0 is not a symbolic link\n",
            "\n",
            "/sbin/ldconfig.real: /usr/local/lib/libur_loader.so.0 is not a symbolic link\n",
            "\n",
            "Requirement already satisfied: highspy in /usr/local/lib/python3.12/dist-packages (1.11.0)\n",
            "Requirement already satisfied: numpy in /usr/local/lib/python3.12/dist-packages (from highspy) (2.0.2)\n"
          ]
        }
      ]
    },
    {
      "cell_type": "code",
      "source": [
        "import numpy\n",
        "from numpy.random import randint as rand\n",
        "\n",
        "def generate_maze(width=51, height=30, complexity=.866, density=.9):\n",
        "    \"\"\"Generate a maze using a maze generation algorithm.\"\"\"\n",
        "    # Only odd shapes\n",
        "    shape = ((height // 2) * 2 + 1, (width // 2) * 2 + 1)\n",
        "    # Adjust complexity and density relative to maze size\n",
        "    complexity = int(complexity * (5 * (shape[0] + shape[1])))  # Number of components\n",
        "    density    = int(density * ((shape[0] // 2) * (shape[1] // 2)))  # Size of components\n",
        "    # Build actual maze\n",
        "    Z = numpy.zeros(shape, dtype=bool)\n",
        "    # Fill borders\n",
        "    Z[0, :] = Z[-1, :] = 1\n",
        "    Z[:, 0] = Z[:, -1] = 1\n",
        "    # Make aisles\n",
        "    for i in range(density):\n",
        "        x, y = rand(0, shape[1] // 2) * 2, rand(0, shape[0] // 2) * 2  # Pick a random position\n",
        "        Z[y, x] = 1\n",
        "        for j in range(complexity):\n",
        "            neighbours = []\n",
        "            if x > 1:             neighbours.append((y, x - 2))\n",
        "            if x < shape[1] - 2:  neighbours.append((y, x + 2))\n",
        "            if y > 1:             neighbours.append((y - 2, x))\n",
        "            if y < shape[0] - 2:  neighbours.append((y + 2, x))\n",
        "            if len(neighbours):\n",
        "                y_, x_ = neighbours[rand(0, len(neighbours) - 1)]\n",
        "                if Z[y_, x_] == 0:\n",
        "                    Z[y_, x_] = 1\n",
        "                    Z[y_ + (y - y_) // 2, x_ + (x - x_) // 2] = 1\n",
        "                    x, y = x_, y_\n",
        "    return Z"
      ],
      "metadata": {
        "id": "ngvjeTLHcscx"
      },
      "execution_count": null,
      "outputs": []
    },
    {
      "cell_type": "code",
      "source": [
        "maze=generate_maze()\n",
        "\n",
        "#maze[12,79] = True\n",
        "#maze[30,79] = True\n",
        "#maze[60,79] = True\n",
        "\n",
        "#maze[12,1] = True\n",
        "#maze[30,1] = True\n",
        "\n",
        "out_cord = [maze.shape[0]-2,maze.shape[1]-1]\n",
        "\n",
        "maze[out_cord[0],out_cord[1]] = False\n",
        "maze[0,1] = False\n",
        "\n",
        "plt.figure(figsize=(12, 8))\n",
        "\n",
        "for r in [1,maze.shape[1]-2]:\n",
        "  for c in [3 , 8  ,20]:\n",
        "    maze[c,r] = True\n",
        "\n",
        "\n",
        "    #plt.scatter(r,c,s=10 , c='r')\n",
        "plt.imshow(maze, cmap=plt.cm.binary, interpolation='nearest')\n",
        "plt.xticks([]), plt.yticks([])\n",
        "plt.show()\n"
      ],
      "metadata": {
        "colab": {
          "base_uri": "https://localhost:8080/",
          "height": 602
        },
        "id": "yg-skP1acwxt",
        "outputId": "d9bf377a-74b1-4376-85cb-acac3f1dcfdd"
      },
      "execution_count": null,
      "outputs": [
        {
          "output_type": "display_data",
          "data": {
            "text/plain": [
              "<Figure size 1200x800 with 1 Axes>"
            ],
            "image/png": "[encoded data removed]"
          },
          "metadata": {}
        }
      ]
    },
    {
      "cell_type": "code",
      "source": [
        "data = {}\n",
        "source = [0]\n",
        "node_counter = 0\n",
        "for r in range(maze.shape[0]):\n",
        "  for c in range(maze.shape[1]):\n",
        "    if not maze[r,c]:\n",
        "      data[node_counter] = {'x':c,'y':r}\n",
        "      if out_cord== [r,c]:\n",
        "        sink = [node_counter]\n",
        "      node_counter += 1\n",
        "\n",
        "nodes = [n for n in range(node_counter)]\n",
        "\n",
        "connect = list(set([(i,j) for i in nodes for j in nodes if abs(data[i]['x']-data[j]['x']) + abs(data[i]['y']-data[j]['y']) == 1 ]))\n",
        "\n",
        "cost = {(i,j): random.randint(1,5) for (i,j) in connect}\n",
        "\n",
        "print(node_counter, len(nodes) , len(connect))"
      ],
      "metadata": {
        "id": "YckhKJPromEA",
        "colab": {
          "base_uri": "https://localhost:8080/"
        },
        "outputId": "416ced84-ea28-4ae4-859d-a1efeb037bcc"
      },
      "execution_count": null,
      "outputs": [
        {
          "output_type": "stream",
          "name": "stdout",
          "text": [
            "783 783 1638\n"
          ]
        }
      ]
    },
    {
      "cell_type": "code",
      "source": [
        "model = AbstractModel()\n",
        "\n",
        "# Sets\n",
        "model.n = Set(initialize=nodes)\n",
        "model.flow_set = Set(dimen=2, initialize=connect)\n",
        "model.flow = Var(model.flow_set, bounds=(0,1) , within= NonNegativeReals)\n",
        "model.cost_values = Param(model.flow_set, initialize=cost, mutable= True)\n",
        "def source_sink(model, n):\n",
        "  expr = sum(model.flow[(n,j)]-model.flow[(j,n)] for j in model.n if (n,j) in model.flow_set)\n",
        "  if n in source:\n",
        "    return 1-0 == expr\n",
        "  elif n in sink:\n",
        "    return 0-1 == expr\n",
        "  else:\n",
        "    return 0 == expr\n",
        "model.C1 = Constraint(model.n, rule=source_sink)\n",
        "\n",
        "def obj_rule(model):\n",
        "  return sum(model.cost_values[i,j]*model.flow[(i,j)] for i in model.n for j in model.n if (i,j) in model.flow_set)\n",
        "model.obj = Objective(rule=obj_rule, sense = minimize)\n",
        "\n",
        "instance = model.create_instance()\n",
        "results = opt.solve(instance)\n",
        "\n",
        "\n",
        "# Display results\n",
        "print(\"Solver Status:\", results.solver.status)\n",
        "print(\"Termination Condition:\", results.solver.termination_condition)\n",
        "\n"
      ],
      "metadata": {
        "colab": {
          "base_uri": "https://localhost:8080/"
        },
        "id": "-MIujQvStCae",
        "outputId": "ae4f6acd-8c60-4d87-8473-94ca49135a13"
      },
      "execution_count": null,
      "outputs": [
        {
          "output_type": "stream",
          "name": "stdout",
          "text": [
            "Solver Status: ok\n",
            "Termination Condition: optimal\n"
          ]
        }
      ]
    },
    {
      "cell_type": "code",
      "source": [
        "plt.figure(figsize=(12, 8))\n",
        "plt.imshow(maze, cmap=plt.cm.binary, interpolation='nearest')\n",
        "plt.xticks([]), plt.yticks([])\n",
        "\n",
        "for (i,j) in instance.flow:\n",
        "  if value(instance.flow[i,j]):\n",
        "    x1,y1 = data[i]['x'],data[i]['y']\n",
        "    x2,y2 = data[j]['x'],data[j]['y']\n",
        "    plt.plot([x1,x2],[y1,y2], c= 'r', lw=4)\n",
        "plt.show()"
      ],
      "metadata": {
        "colab": {
          "base_uri": "https://localhost:8080/",
          "height": 602
        },
        "id": "qN9kp3Tiz3I3",
        "outputId": "7dd9fe4d-7531-40e9-ccf8-05e45396d686"
      },
      "execution_count": null,
      "outputs": [
        {
          "output_type": "display_data",
          "data": {
            "text/plain": [
              "<Figure size 1200x800 with 1 Axes>"
            ],
            "image/png": "[encoded data removed]"
          },
          "metadata": {}
        }
      ]
    },
    {
      "cell_type": "code",
      "source": [
        "!pip install ortools\n",
        "from ortools.sat.python import cp_model\n",
        "import time\n",
        "\n",
        "\n",
        "model = cp_model.CpModel()\n",
        "x={(i,j):model.NewBoolVar(f\"flow_{i}_{j}\") for (i,j) in connect}\n",
        "assign = {i: model.NewBoolVar(f\"assign_{i}\") for i in nodes}\n",
        "\n",
        "\n",
        "endpoint = {i: model.NewBoolVar(f\"end_{i}\") for i in nodes }\n",
        "startpoint = {i: model.NewBoolVar(f\"st_{i}\") for i in sink+source }\n",
        "\n",
        "linked= {(i,j): model.NewBoolVar(f\"linked_{i}_{j}\") for i in endpoint for j in startpoint if i<j and (i,j) not in connect}\n",
        "print('ckeck' , len(linked) )\n",
        "###################################################################################################\n",
        "arcs= [ (i,j,v) for (i,j),v in x.items()] + [(i,i,assign[i].Not()) for i in nodes] + [(i,j,v) for (i,j),v in linked.items()]\n",
        "model.AddCircuit(arcs)\n",
        "\n",
        "for n in nodes:\n",
        "  if n in startpoint:\n",
        "    model.AddAtMostOne([startpoint[n] , endpoint[n]])\n",
        "    model.Add(startpoint[n] <= assign[n])\n",
        "    model.Add(endpoint[n] <= assign[n])\n",
        "\n",
        "\n",
        "  expr_out = [x[n,j] for j in nodes if (n,j) in connect] + [linked[n,j] for j in startpoint if (n,j) in linked]\n",
        "  model.Add(cp_model.LinearExpr.Sum(expr_out) == assign[n] )\n",
        "\n",
        "\n",
        "  expr_in = [x[j,n] for j in nodes if (j,n) in connect] + [linked[j,n] for j in endpoint if (j,n) in linked]\n",
        "  model.Add(cp_model.LinearExpr.Sum(expr_in) == assign[n] )\n",
        "  X_expr_in = [x[j,n] for j in nodes if (j,n) in connect]\n",
        "  X_expr_out = [x[n,j] for j in nodes if (n,j) in connect]\n",
        "\n",
        "\n",
        "  #model.Add(cp_model.LinearExpr.Sum(X_expr_in) == assign[n] ).OnlyEnforceIf(startpoint[n].Not())\n",
        "  #model.Add(cp_model.LinearExpr.Sum(X_expr_out) == assign[n] ).OnlyEnforceIf(endpoint[n].Not())\n",
        "\n",
        "expr_st = [v for n,v in startpoint.items() ]\n",
        "model.AddExactlyOne(expr_st)\n",
        "expr_fn = [v for n,v in endpoint.items() ]\n",
        "model.AddExactlyOne(expr_fn)\n",
        "expr_lnk =  [v for (i,j),v in linked.items()]\n",
        "model.AddExactlyOne(expr_lnk)\n",
        "\n",
        "expr_final = [v*n for n,v in endpoint.items()]\n",
        "expr_start = [v*n for n,v in startpoint.items()]\n",
        "model.Add(cp_model.LinearExpr.Sum(expr_final) < cp_model.LinearExpr.Sum(expr_start))\n",
        "\n",
        "for (i,j),v in linked.items():\n",
        "  model.Add(v <= assign[i])\n",
        "  model.Add(v <= assign[j])\n",
        "  model.Add(v <= startpoint[j])\n",
        "  model.Add(v <= endpoint[i])\n",
        "  model.Add(v >= startpoint[j] +endpoint[i] -1)\n",
        "\n",
        "for n in nodes:\n",
        "  to_n = [j for j in nodes if (n,j) in connect]\n",
        "  if len(to_n) ==1 and n in startpoint:\n",
        "    j_connected =to_n[0]\n",
        "    model.Add(assign[n] == startpoint[n]+endpoint[n])\n",
        "    model.Add(assign[j_connected]  >= assign[n])\n",
        "  elif len(to_n) ==2:\n",
        "    model.Add(2*assign[n] <= cp_model.LinearExpr.Sum([assign[j] for j in to_n]) )\n",
        "\n",
        "expressions_of = [v for v in assign.values()]\n",
        "model.Maximize(cp_model.LinearExpr.Sum(expressions_of))\n",
        "\n",
        "solver = cp_model.CpSolver()\n",
        "solver.parameters.num_workers = 32\n",
        "#solver.parameters.subsolvers[:] = ['core','pseudo_costs','quick_restart_no_lp','default_lp']\n",
        "solver.parameters.max_time_in_seconds = 120\n",
        "\n",
        "status = solver.solve(model)\n",
        "print(solver.StatusName(status))\n",
        "\n",
        "if status == cp_model.OPTIMAL or status == cp_model.FEASIBLE:\n",
        "  pass\n",
        "else:\n",
        "  print(\"No solution found.\")\n",
        "\n",
        "print(f\"Min of objective function: {solver.objective_value}\\n\")"
      ],
      "metadata": {
        "colab": {
          "base_uri": "https://localhost:8080/",
          "height": 811
        },
        "id": "Kj3EAsNIQE4b",
        "outputId": "29acab21-3a91-4c30-83a0-62b3450375ac"
      },
      "execution_count": null,
      "outputs": [
        {
          "output_type": "stream",
          "name": "stdout",
          "text": [
            "Collecting ortools\n",
            "  Downloading ortools-9.14.6206-cp312-cp312-manylinux_2_27_x86_64.manylinux_2_28_x86_64.whl.metadata (3.3 kB)\n",
            "Collecting absl-py>=2.0.0 (from ortools)\n",
            "  Downloading absl_py-2.3.1-py3-none-any.whl.metadata (3.3 kB)\n",
            "Requirement already satisfied: numpy>=1.13.3 in /usr/local/lib/python3.12/dist-packages (from ortools) (2.0.2)\n",
            "Requirement already satisfied: pandas>=2.0.0 in /usr/local/lib/python3.12/dist-packages (from ortools) (2.2.2)\n",
            "Collecting protobuf<6.32,>=6.31.1 (from ortools)\n",
            "  Downloading protobuf-6.31.1-cp39-abi3-manylinux2014_x86_64.whl.metadata (593 bytes)\n",
            "Requirement already satisfied: typing-extensions>=4.12 in /usr/local/lib/python3.12/dist-packages (from ortools) (4.15.0)\n",
            "Requirement already satisfied: immutabledict>=3.0.0 in /usr/local/lib/python3.12/dist-packages (from ortools) (4.2.1)\n",
            "Requirement already satisfied: python-dateutil>=2.8.2 in /usr/local/lib/python3.12/dist-packages (from pandas>=2.0.0->ortools) (2.9.0.post0)\n",
            "Requirement already satisfied: pytz>=2020.1 in /usr/local/lib/python3.12/dist-packages (from pandas>=2.0.0->ortools) (2025.2)\n",
            "Requirement already satisfied: tzdata>=2022.7 in /usr/local/lib/python3.12/dist-packages (from pandas>=2.0.0->ortools) (2025.2)\n",
            "Requirement already satisfied: six>=1.5 in /usr/local/lib/python3.12/dist-packages (from python-dateutil>=2.8.2->pandas>=2.0.0->ortools) (1.17.0)\n",
            "Downloading ortools-9.14.6206-cp312-cp312-manylinux_2_27_x86_64.manylinux_2_28_x86_64.whl (27.7 MB)\n",
            "\u001b[2K   \u001b[90m━━━━━━━━━━━━━━━━━━━━━━━━━━━━━━━━━━━━━━━━\u001b[0m \u001b[32m27.7/27.7 MB\u001b[0m \u001b[31m64.1 MB/s\u001b[0m eta \u001b[36m0:00:00\u001b[0m\n",
            "\u001b[?25hDownloading absl_py-2.3.1-py3-none-any.whl (135 kB)\n",
            "\u001b[2K   \u001b[90m━━━━━━━━━━━━━━━━━━━━━━━━━━━━━━━━━━━━━━━━\u001b[0m \u001b[32m135.8/135.8 kB\u001b[0m \u001b[31m10.3 MB/s\u001b[0m eta \u001b[36m0:00:00\u001b[0m\n",
            "\u001b[?25hDownloading protobuf-6.31.1-cp39-abi3-manylinux2014_x86_64.whl (321 kB)\n",
            "\u001b[2K   \u001b[90m━━━━━━━━━━━━━━━━━━━━━━━━━━━━━━━━━━━━━━━━\u001b[0m \u001b[32m321.1/321.1 kB\u001b[0m \u001b[31m21.1 MB/s\u001b[0m eta \u001b[36m0:00:00\u001b[0m\n",
            "\u001b[?25hInstalling collected packages: protobuf, absl-py, ortools\n",
            "  Attempting uninstall: protobuf\n",
            "    Found existing installation: protobuf 5.29.5\n",
            "    Uninstalling protobuf-5.29.5:\n",
            "      Successfully uninstalled protobuf-5.29.5\n",
            "  Attempting uninstall: absl-py\n",
            "    Found existing installation: absl-py 1.4.0\n",
            "    Uninstalling absl-py-1.4.0:\n",
            "      Successfully uninstalled absl-py-1.4.0\n",
            "\u001b[31mERROR: pip's dependency resolver does not currently take into account all the packages that are installed. This behaviour is the source of the following dependency conflicts.\n",
            "grpcio-status 1.71.2 requires protobuf<6.0dev,>=5.26.1, but you have protobuf 6.31.1 which is incompatible.\n",
            "google-ai-generativelanguage 0.6.15 requires protobuf!=4.21.0,!=4.21.1,!=4.21.2,!=4.21.3,!=4.21.4,!=4.21.5,<6.0.0dev,>=3.20.2, but you have protobuf 6.31.1 which is incompatible.\n",
            "tensorflow 2.19.0 requires protobuf!=4.21.0,!=4.21.1,!=4.21.2,!=4.21.3,!=4.21.4,!=4.21.5,<6.0.0dev,>=3.20.3, but you have protobuf 6.31.1 which is incompatible.\u001b[0m\u001b[31m\n",
            "\u001b[0mSuccessfully installed absl-py-2.3.1 ortools-9.14.6206 protobuf-6.31.1\n"
          ]
        },
        {
          "output_type": "display_data",
          "data": {
            "application/vnd.colab-display-data+json": {
              "pip_warning": {
                "packages": [
                  "google"
                ]
              },
              "id": "73012e7f66a3416bb155f92f67aa1be0"
            }
          },
          "metadata": {}
        },
        {
          "output_type": "stream",
          "name": "stdout",
          "text": [
            "ckeck 781\n",
            "OPTIMAL\n",
            "Min of objective function: 455.0\n",
            "\n"
          ]
        }
      ]
    },
    {
      "cell_type": "code",
      "source": [
        "plt.figure(figsize=(12, 8))\n",
        "plt.imshow(maze, cmap=plt.cm.binary, interpolation='nearest')\n",
        "plt.xticks([]), plt.yticks([])\n",
        "for i in nodes:\n",
        "  x1,y1 = data[i]['x'],data[i]['y']\n",
        "  plt.scatter(x1,y1, s=10 , c='grey')"
      ],
      "metadata": {
        "colab": {
          "base_uri": "https://localhost:8080/",
          "height": 602
        },
        "id": "5vchUM6JVPUN",
        "outputId": "178012fc-cd2d-43e1-b86a-7cba27d94995"
      },
      "execution_count": null,
      "outputs": [
        {
          "output_type": "display_data",
          "data": {
            "text/plain": [
              "<Figure size 1200x800 with 1 Axes>"
            ],
            "image/png": "[encoded data removed]"
          },
          "metadata": {}
        }
      ]
    },
    {
      "cell_type": "code",
      "source": [
        "plt.figure(figsize=(12, 8))\n",
        "plt.imshow(maze, cmap=plt.cm.binary, interpolation='nearest')\n",
        "plt.xticks([]), plt.yticks([])\n",
        "\n",
        "for (i,j) in x:\n",
        "  if solver.value(x[i,j]):\n",
        "\n",
        "    x1,y1 = data[i]['x'],data[i]['y']\n",
        "    x2,y2 = data[j]['x'],data[j]['y']\n",
        "    #plt.plot([x1,x2],[y1,y2], c= 'r', lw=4)\n",
        "    #print(f\"from{i} to {j}\")\n",
        "    #plt.text(x1,y1, s=str(i), fontsize=6)\n",
        "    #plt.text(x2,y2, s=str(j), fontsize=6)\n",
        "for (i,j),v in linked.items():\n",
        "  if solver.value(v):\n",
        "    x1,y1 = data[i]['x'],data[i]['y']\n",
        "    x2,y2 = data[j]['x'],data[j]['y']\n",
        "    #plt.plot([x1,x2],[y1,y2], c= 'b', lw=4)\n",
        "    #plt.text(x1,y1, s=str(i))\n",
        "    #plt.text(x2,y2, s=str(j))\n",
        "    print('Linked', i,j)\n",
        "    print(solver.value(startpoint[j]), solver.value(endpoint[i]))\n",
        "\n",
        "\n",
        "for n in nodes:\n",
        "  to_n = [j for j in nodes if (n,j) in connect]\n",
        "  if len(to_n) ==1:\n",
        "    x1,y1 = data[n]['x'],data[n]['y']\n",
        "    plt.scatter(x1,y1, s=100 , c='k')\n",
        "  elif len(to_n) ==2:\n",
        "    x1,y1 = data[n]['x'],data[n]['y']\n",
        "    plt.scatter(x1,y1, s=10 , c='g')\n",
        "  elif len(to_n) ==3:\n",
        "    x1,y1 = data[n]['x'],data[n]['y']\n",
        "    plt.scatter(x1,y1, s=20 , c='b')\n",
        "\n",
        "plt.show()\n",
        "\n",
        "for n in nodes:\n",
        "  if solver.value(startpoint.get(n,0))>0:\n",
        "    print(f\"start {n}\")\n",
        "  if solver.value(endpoint[n])>0:\n",
        "    print(f\"end {n}\")"
      ],
      "metadata": {
        "colab": {
          "base_uri": "https://localhost:8080/",
          "height": 675
        },
        "id": "a5PL7T-FrmBo",
        "outputId": "548c14c1-674e-4e78-84a6-db5f2c26d5ca"
      },
      "execution_count": null,
      "outputs": [
        {
          "output_type": "stream",
          "name": "stdout",
          "text": [
            "Linked 0 782\n",
            "1 1\n"
          ]
        },
        {
          "output_type": "display_data",
          "data": {
            "text/plain": [
              "<Figure size 1200x800 with 1 Axes>"
            ],
            "image/png": "[encoded data removed]"
          },
          "metadata": {}
        },
        {
          "output_type": "stream",
          "name": "stdout",
          "text": [
            "end 0\n",
            "start 782\n"
          ]
        }
      ]
    },
    {
      "cell_type": "code",
      "source": [],
      "metadata": {
        "id": "3WqpVI15CtI1"
      },
      "execution_count": null,
      "outputs": []
    }
  ]
}