{
 "cells": [
  {
   "cell_type": "code",
   "execution_count": 1,
   "id": "2dc4dc39",
   "metadata": {},
   "outputs": [
    {
     "name": "stdout",
     "output_type": "stream",
     "text": [
      "WARNING: Implicitly replacing the Component attribute obj (type=<class\n",
      "    'pyomo.core.base.objective.ScalarObjective'>) on block unknown with a new\n",
      "    Component (type=<class 'pyomo.core.base.objective.ScalarObjective'>). This\n",
      "    is usually indicative of a modelling error. To avoid this warning, use\n",
      "    block.del_component() and block.add_component().\n",
      "\n",
      "Problem: \n",
      "- Lower bound: -inf\n",
      "  Upper bound: inf\n",
      "  Number of objectives: 1\n",
      "  Number of constraints: 1\n",
      "  Number of variables: 5\n",
      "  Sense: unknown\n",
      "Solver: \n",
      "- Status: ok\n",
      "  Message: MINOS 5.51\\x3a optimal solution found.; 2 iterations, objective -1.9999999999999998\n",
      "  Termination condition: optimal\n",
      "  Id: 0\n",
      "Solution: \n",
      "- number of solutions: 0\n",
      "  number of solutions displayed: 0\n",
      "\n"
     ]
    }
   ],
   "source": [
    "from pyomo import environ as pe\n",
    "import os\n",
    "\n",
    "os.environ['NEOS_EMAIL'] = 'XXXXXX@gmail.com' \n",
    "\n",
    "model = pe.ConcreteModel()\n",
    "\n",
    "model.x1 = pe.Var(domain=pe.Binary)\n",
    "model.x2 = pe.Var(domain=pe.Binary)\n",
    "model.x3 = pe.Var(domain=pe.Binary)\n",
    "model.x4 = pe.Var(domain=pe.Binary)\n",
    "model.x5 = pe.Var(domain=pe.Binary)\n",
    "\n",
    "obj_expr = 3 * model.x1 + 4 * model.x2 + 5 * model.x3 + 8 * model.x4 + 9 * model.x5\n",
    "model.obj = pe.Objective(sense=pe.maximize, expr=obj_expr)\n",
    "\n",
    "con_expr = 2 * model.x1 + 3 * model.x2 + 4 * model.x3 + 5 * model.x4 + 9 * model.x5 <= 20\n",
    "model.con = pe.Constraint(expr=con_expr)\n",
    "model.obj = pe.Objective(expr=-model.x1-model.x2, sense= minimize)\n",
    "\n",
    "solver_manager = pe.SolverManagerFactory('neos')\n",
    "\n",
    "results = solver_manager.solve(model, solver = \"minos\")\n",
    "print(results)"
   ]
  },
  {
   "cell_type": "code",
   "execution_count": 2,
   "id": "ab658cdd",
   "metadata": {},
   "outputs": [
    {
     "name": "stdout",
     "output_type": "stream",
     "text": [
      "x1 1.0\n",
      "x2 1.0\n",
      "x3 0.0\n",
      "x4 0.0\n"
     ]
    }
   ],
   "source": [
    "print('x1', model.x1.value)\n",
    "print('x2', model.x2.value)\n",
    "print('x3', model.x3.value)\n",
    "print('x4', model.x4.value)\n",
    "# Deufalt sense is minimization  "
   ]
  },
  {
   "cell_type": "code",
   "execution_count": null,
   "id": "52d3e44c",
   "metadata": {},
   "outputs": [],
   "source": []
  }
 ],
 "metadata": {
  "kernelspec": {
   "display_name": "Python 3",
   "language": "python",
   "name": "python3"
  },
  "language_info": {
   "codemirror_mode": {
    "name": "ipython",
    "version": 3
   },
   "file_extension": ".py",
   "mimetype": "text/x-python",
   "name": "python",
   "nbconvert_exporter": "python",
   "pygments_lexer": "ipython3",
   "version": "3.7.12"
  }
 },
 "nbformat": 4,
 "nbformat_minor": 5
}
