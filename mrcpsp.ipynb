{
  "nbformat": 4,
  "nbformat_minor": 0,
  "metadata": {
    "colab": {
      "provenance": [],
      "authorship_tag": "ABX9TyMnoFKnW9Qy+XIiL9PLoAjj",
      "include_colab_link": true
    },
    "kernelspec": {
      "name": "python3",
      "display_name": "Python 3"
    },
    "language_info": {
      "name": "python"
    }
  },
  "cells": [
    {
      "cell_type": "markdown",
      "metadata": {
        "id": "view-in-github",
        "colab_type": "text"
      },
      "source": [
        "<a href=\"https://colab.research.google.com/github/OptimizationExpert/Pyomo/blob/main/mrcpsp.ipynb\" target=\"_parent\"><img src=\"https://colab.research.google.com/assets/colab-badge.svg\" alt=\"Open In Colab\"/></a>"
      ]
    },
    {
      "cell_type": "code",
      "execution_count": null,
      "metadata": {
        "id": "AzC-Qv_m5UAS"
      },
      "outputs": [],
      "source": []
    },
    {
      "cell_type": "code",
      "source": [
        "!pip install pyomo\n",
        "from pyomo.environ import *\n",
        "!apt-get install -y -qq coinor-cbc\n",
        "opt= SolverFactory('cbc', executable='/usr/bin/cbc')"
      ],
      "metadata": {
        "colab": {
          "base_uri": "https://localhost:8080/"
        },
        "id": "eJ5ePkk35U8I",
        "outputId": "e07f07d3-ea70-4e10-f542-ff9bf02df737"
      },
      "execution_count": null,
      "outputs": [
        {
          "output_type": "stream",
          "name": "stdout",
          "text": [
            "Requirement already satisfied: pyomo in /usr/local/lib/python3.11/dist-packages (6.9.2)\n",
            "Requirement already satisfied: ply in /usr/local/lib/python3.11/dist-packages (from pyomo) (3.11)\n"
          ]
        }
      ]
    },
    {
      "cell_type": "code",
      "source": [
        "activities = ['A', 'B']\n",
        "modes = ['1', '2']\n",
        "resources = ['R1']\n",
        "times = [0, 1, 2, 3, 4, 5, 6, 7, 8, 9]\n",
        "durations = {('A', '1'): 3, ('A', '2'): 2, ('B', '1'): 4, ('B', '2'): 3} # duration for each activity in each mode\n",
        "q = {('A', '1', 'R1'): 2, ('A', '2', 'R1'): 3, ('B', '1', 'R1'): 2, ('B', '2', 'R1'): 1}\n",
        "B = {'R1': 4} # resource availability\n",
        "P = [('A', 'B')]  # Precedence\n",
        "\n",
        "\n",
        "activities = [a for a in range(8)]\n",
        "modes = [1, 2]\n",
        "resources = ['R1','R2']\n",
        "times = [t for t in range(20)]\n",
        "durations = {\n",
        "    (0, 1): 0, (0, 2): 0,\n",
        "    (1, 1): 3, (1, 2): 4,\n",
        "    (2, 1): 2, (2, 2): 4,\n",
        "    (3, 1): 2, (3, 2): 3,\n",
        "    (4, 1): 2, (4, 2): 2,\n",
        "    (5, 1): 3, (5, 2): 3,\n",
        "    (6, 1): 4, (6, 2): 6,\n",
        "    (7, 1): 0, (7, 2): 0\n",
        "}\n",
        "B = {'R1': 3, 'R2':15}\n",
        "P = [(0,1), (0,2), (1,3), (3,5),(2,4), (4,6),(5,7), (6,7)]  # Precedence\n",
        "q  = {\n",
        "    (0, 1, 'R1'): 0, (0, 1, 'R2'): 0,\n",
        "    (1, 1, 'R1'): 2, (1, 1, 'R2'): 5,\n",
        "    (1, 2, 'R1'): 1, (1, 2, 'R2'): 1,\n",
        "    (2, 1, 'R1'): 3, (2, 1, 'R2'): 6,\n",
        "    (2, 2, 'R1'): 3, (2, 2, 'R2'): 2,\n",
        "    (3, 1, 'R1'): 4, (3, 1, 'R2'): 2,\n",
        "    (3, 2, 'R1'): 2, (3, 2, 'R2'): 2,\n",
        "    (4, 1, 'R1'): 3, (4, 1, 'R2'): 6,\n",
        "    (4, 2, 'R1'): 4, (4, 2, 'R2'): 4,\n",
        "    (5, 1, 'R1'): 3, (5, 1, 'R2'): 1,\n",
        "    (5, 2, 'R1'): 1, (5, 2, 'R2'): 7,\n",
        "    (6, 1, 'R1'): 2, (6, 1, 'R2'): 1,\n",
        "    (6, 2, 'R1'): 1, (6, 2, 'R2'): 1,\n",
        "    (7, 1, 'R1'): 0, (7, 1, 'R2'): 0,\n",
        "}\n",
        "\n",
        "\n",
        "\n",
        "\n"
      ],
      "metadata": {
        "id": "MpSU3fTF-_d8"
      },
      "execution_count": null,
      "outputs": []
    },
    {
      "cell_type": "code",
      "source": [
        "\n",
        "model = ConcreteModel()\n",
        "\n",
        "# Sets\n",
        "model.I = Set(initialize=activities)  # Activities\n",
        "model.M = Set(initialize=modes)  # Modes\n",
        "model.R = Set(initialize=resources)      # Resources\n",
        "model.T = Set(initialize=times)   # Time horizon\n",
        "\n",
        "model.IMT = Set(initialize=[(i, m, t) for i in model.I for m in model.M for t in model.T])\n",
        "model.IM = Set(initialize=[(i, m) for i in model.I for m in model.M])\n",
        "model.IR = Set(initialize=[(i, r) for i in model.I for r in model.R])\n",
        "model.IMR = Set(initialize=[(i, m, r) for i in model.I for m in model.M for r in model.R])\n",
        "\n",
        "\n",
        "\n",
        "model.d = Param(model.IM, initialize=durations)\n",
        "\n",
        "model.q = Param(model.IMR, initialize={(i, m, r): q.get((i, m, r), 0) for i in model.I for m in model.M for r in model.R})\n",
        "model.B = Param(model.R, initialize=B)\n",
        "\n",
        "# Decision Variables\n",
        "model.x = Var(model.IMT, initialize=0,domain=Binary)\n",
        "model.Cmax = Var(domain=NonNegativeReals)\n",
        "\n",
        "# One mode and one start time per activity\n",
        "def one_start_rule(model, i):\n",
        "    return sum(model.x[i, m, t] for m in model.M for t in model.T if t <= max(model.T) - model.d[i, m]) == 1\n",
        "model.OneStart = Constraint(model.I, rule=one_start_rule)\n",
        "\n",
        "# Precedence constraints\n",
        "model.Precedence = ConstraintList()\n",
        "for (i, j) in P:\n",
        "    model.Precedence.add(\n",
        "        sum((t + model.d[i, m]) * model.x[i, m, t] for m in model.M for t in model.T if t <= max(model.T) - model.d[i, m])\n",
        "        <= sum(t * model.x[j, m, t] for m in model.M for t in model.T if t <= max(model.T) - model.d[j, m])\n",
        "    )\n",
        "\n",
        "# Resource constraints\n",
        "def resource_rule(model, r, tau):\n",
        "    expressions = [model.q[i, m, r] * model.x[i, m, t]\n",
        "        for i in model.I for m in model.M for t in model.T\n",
        "        if t <= tau < t + model.d[i, m] and t <= max(model.T) - model.d[i, m]]\n",
        "    expr = sum(expressions)\n",
        "    if len(expressions) == 0:\n",
        "        return Constraint.Skip\n",
        "    return expr <= model.B[r]\n",
        "model.ResourceCap = Constraint(model.R, model.T, rule=resource_rule)\n",
        "\n",
        "# Makespan\n",
        "def makespan_rule(model, i):\n",
        "    return sum((t + model.d[i, m]) * model.x[i, m, t]\n",
        "               for m in model.M for t in model.T if t <= max(model.T) - model.d[i, m]) <= model.Cmax\n",
        "model.Makespan = Constraint(model.I, rule=makespan_rule)\n",
        "\n",
        "# Objective\n",
        "model.Obj = Objective(expr=model.Cmax, sense=minimize)\n",
        "\n",
        "# Solver (optional)\n",
        "opt.solve(model, tee=False)\n",
        "\n",
        "# Display solution (optional)\n",
        "#model.display()\n",
        "\n",
        "solution = []\n",
        "for (i,m,t) in model.x:\n",
        "  if value(model.x[i, m, t]) > 0.5:\n",
        "      dur = value(model.d[i, m])\n",
        "      solution.append((i, m, t, dur))"
      ],
      "metadata": {
        "id": "jqBpybri5VD7"
      },
      "execution_count": null,
      "outputs": []
    },
    {
      "cell_type": "code",
      "source": [
        "import pandas as pd\n",
        "import matplotlib.pyplot as plt\n",
        "# Simulated output: list of (activity, selected mode, start time, duration)\n",
        "# Replace this with actual values from your Pyomo model\n",
        "# Build a DataFrame\n",
        "df = pd.DataFrame(solution, columns=['Activity', 'Mode', 'Start', 'Duration'])\n",
        "df['Finish'] = df['Start'] + df['Duration']\n",
        "\n",
        "# Plot Gantt chart\n",
        "fig, ax = plt.subplots(figsize=(8, 3))\n",
        "for idx, row in df.iterrows():\n",
        "    ax.barh(row['Activity'], row['Duration'], left=row['Start'], color='skyblue', edgecolor='black')\n",
        "    ax.text(row['Start'] + row['Duration'] / 2, idx, f\"A {row['Activity']}\",\n",
        "            va='center', ha='center', color='black', fontsize=10)\n",
        "\n",
        "ax.set_xlabel(\"Time\")\n",
        "ax.set_title(\"MRCPSP Schedule\")\n",
        "ax.grid(True, axis='x')\n",
        "plt.tight_layout()\n",
        "plt.show()"
      ],
      "metadata": {
        "colab": {
          "base_uri": "https://localhost:8080/",
          "height": 307
        },
        "id": "a4bqX-Q45VGi",
        "outputId": "1be0f515-458b-46e2-c334-618be6bcb116"
      },
      "execution_count": null,
      "outputs": [
        {
          "output_type": "display_data",
          "data": {
            "text/plain": [
              "<Figure size 800x300 with 1 Axes>"
            ],
            "image/png": "[encoded data removed]"
          },
          "metadata": {}
        }
      ]
    }
  ]
}